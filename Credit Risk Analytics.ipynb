{
 "cells": [
  {
   "cell_type": "markdown",
   "metadata": {},
   "source": [
    "# <center> Credit Risk Analytics<center>\n",
    "\n",
    "## What is Credit Risk?\n",
    "\n",
    "In simple words, it is the risk of borrower not repaying loan, credit card or any other type of loan. Sometimes customers pay some installments of loan but don't repay the full amount which includes principal amount plus interest. \n",
    "\n",
    "**For example, you took a personal loan of USD 100,000 for 10 years at 9% interest rate. You paid a few initial installments of loan to the bank but stopped paying afterwards. Remaining unpaid installments are worth USD 30,000. It's a loss to the bank.**\n",
    "\n",
    "It's not restricted to retail customers but includes small, medium and big corporate houses. In news, you might have heard of Kingfisher Company became **non-performing asset (NPA)** which means the company had not been able to pay dues. High NPAs lead to huge financial losses to the bank which turns to reduction of interest rate on the deposit into banks. Serious honest borrowers with good credit history (credit score) would have to suffer. Hence it is essential that banks have sufficient capital to protect depositors from risks\n",
    "\n",
    "## Why Credit Risk is important?\n",
    "\n",
    "Do you remember or aware of 2008 recession? In US, mortgage home loan were given to low creditworthy customers (individuals with poor credit score). Poor credit score indicates that one is highly likely to default on loan which means they are risky customers for bank. To compensate risk, banks used to charge higher interest rate than the normal standard rate. Banks funded these loans by selling them to investors on the secondary market. The process of selling them to investors is a legal financial method which is called **Collateralized debt obligations (CDO)**. In 2004-2007, these CDOs were considered as low-risky financial instrument (highly rated).\n",
    "\n",
    "As these home loan borrowers had high chance to default, many of the them started defaulting on their loans and banks started seizing (foreclose) their property. The real estate bubble burst and a sharp decline in home prices. Many financial institutions globally invested in these funds resulted to a recession. Banks, investors and re-insurers faced huge financial losses and bankruptcy of many financial and non-financial firms. Even non-financial firms were impacted badly because of either their investment in these funds or impacted because of a very low demand and purchasing activities in the economy. In simple words, people had a very little or no money to spend which leads to many organisations halted their production. It further leads to huge job losses. US Government bailed out many big corporate houses during recession. You may have understood now why credit risk is so important. The whole economy can be in danger if current and future credit losses are not identified or estimated properly.\n",
    "\n",
    "## Basel Regulations\n",
    "A committee was set up in year 1974 by central bank governors of G10 countries. It is to ensure that banks have minimum enough capital to give back depositors’ funds. They meet regularly to discuss banking supervisory matters at the Bank for International Settlements (BIS) in Basel, Switzerland. The committee was expanded in 2009 to 27 jurisdictions, including Brazil, Canada, Germany, Australia, Argentina, China, France, India, Saudi Arabia, the Netherlands, Russia, Hong Kong, Japan, Italy, Korea, Mexico, Singapore, Spain, Luxembourg, Turkey, Switzerland, Sweden, South Africa, the United Kingdom, the United States, Indonesia and Belgium.\n",
    "\n",
    "### Basel I\n",
    "**Basel I** accord is the first official pact introduced in year 1988. It focused on credit risk and introduced the idea of the capital adequacy ratio which is also known as Capital to Risk Assets Ratio. It is the ratio of a bank's capital to its risk. Banks needed to maintain ratio of at least 8%. It means capital should be more than 8 percent of the risk-weighted assets. Capital is an aggregation of Tier 1 and Tier 2 capital.\n",
    "\n",
    "- Tier 1 capital : Primary funding source of the bank. It includes shareholders' equity and retained earnings\n",
    "- Tier 2 capital : Subordinated loans, revaluation reserves, undisclosed reserves and general provisions\n",
    "\n",
    "In Basel I, fixed risk weights were set based on the level of exposure. It was 50% for mortgages and 100% for non-mortgage exposures (like credit card, overdraft, auto loans, personal finance etc). See the example shown below -\n",
    "\n",
    "### Example:\n",
    "- Mortgage: USD 5,000\n",
    "- Risk Weight: 50%\n",
    "- Risk Weighted Assets: USD 2500 (Mortage * Risk Weight)\n",
    "- Minimum Capital Required USD: 200 (8% * Risk Weighted Assets).\n",
    "\n",
    "### Basel II\n",
    "**Basel II** accord was introduced in June 2004 to eliminate the limitations of Basel I. \n",
    "For example, Basel I focused only on credit risk whereas Basel II focused not only credit risk but also includes operational and market risk. Operational Risk includes fraud and system failures. Market risk includes equity, currency and commodity risk.\n",
    "\n",
    "In Basel II, there are following three ways to estimate credit risk.\n",
    "- **Standardized Approach**\n",
    "- **Foundation Internal Rating Based (IRB) approach**\n",
    "- **Advanced Internal Rating Based (IRB) Approach**\n",
    "\n",
    "#### Standardized Approach\n",
    "For corporate, the banks relies on ratings from **certified credit rating agencies (CRAs) like S&P, Moody etc**. to quantify required capital for credit risk. Risk weight is 20% for high rated exposures and goes up to 150 percent for low rated exposures. For retail, risk weight is 35% for mortgage exposures and 75% for non-mortgage exposures (no rating by credit rating agencies required for retail).\n",
    "\n",
    "##### Example:\n",
    "- **Corporate Exposure** USD 5,00,000\n",
    "- **Credit Assessment** AAA\n",
    "- **Risk Weights** 20%\n",
    "- **Risk Weighted Assets** USD 1,00,000\n",
    "- **Minimum Capital Required** USD 8,000\n",
    "\n",
    "#### Internal Ratings Based (IRB) Approach\n",
    "It has four credit risk components :\n",
    "- **Probability of Default (PD)**\n",
    "- **Exposure at Default (EAD)**\n",
    "- **Loss given Default (LGD)**\n",
    "- **Effective Maturity (M)**\n",
    "\n",
    "#### Probability of Default (PD)\n",
    "**Probability of default** means the likelihood that a borrower will default on debt (credit card, mortgage or non-mortgage loan) over a one-year period. In simple words, it returns the expected probability of customers fail to repay the loan. Probability is expressed in the form of percentage, lies between 0% and 100%. Higher the probability, higher the chance of default.\n",
    "\n",
    "#### Exposure at Default (EAD)\n",
    "It means how much should we expect the amount outstanding to be in the case of default. It is the amount that the borrower has to pay the bank at the time of default.\n",
    "\n",
    "#### Loss given Default (LGD)\n",
    "It means how much of the amount outstanding we expect to lose. It is a proportion of the total exposure when borrower defaults. \n",
    "\n",
    "It is calculated by (1 - Recovery Rate).\n",
    "- LGD = (EAD – PV(recovery) – PV(cost)) / EAD\n",
    "- PV (recovery)= Present value of recovery discounted till time of default.\n",
    "- PV (cost) = Present value of cost discounted till time of default.\n",
    "\n",
    "#### Expected Loss\n",
    "**Expected Loss** is calculated by (PD * LGD * EAD).\n",
    "\n",
    "#####  Example\n",
    "Someone takes USD 100,000 home loan from bank for purchase of flat. At the time of default, loan has an outstanding balance of USD 70,000. Bank foreclosed flat and sold it for USD 60,000. EAD is USD 70,000. LGD is calculated by dividing (USD 70,000 - USD 60,000)/USD 70,000 i.e. 14.3%.\n",
    "- **Probability of Default** 2%\n",
    "- **Exposure at Default** USD 20,000\n",
    "- **Loss Given Default** 20%\n",
    "- **Expected Loss** USD 80\n",
    "\n",
    "#### Foundation and Advanced IRB Approach\n",
    "There are two types of Internal Rating Based (IRB) approaches which are Foundation IRB and Advanced IRB.\n",
    "- **Foundation IRB:** PD is estimated internally by the bank while LGD and EAD are prescribed by regulator.\n",
    "- **Advanced IRB:** PD, LGD, and EAD can be estimated internally by the bank itself.\n",
    "\n",
    "#### Effective Maturity (M)\n",
    "It is a duration that reflects standard bank practice is used. For Foundation IRB, the effective maturity is 2.5 years (exception is repo style transactions where it is 6 months). For Advanced IRB, M is the greater of 1 year or the effective maturity of the specific instrument.\n",
    "\n",
    "### Basel III\n",
    "**Basel III** accord has recently become effective starting 2019. In some countries, central banks have fixed Dec'2019 as the deadline to meet capital requirements under the **Basel III norm**. **Basel III** has incorporated several risk measures to counter issues which were identified and highlighted in 2008 financial crisis. It emphasis on revised capital standards (such as leverage ratios), stress testing and tangible equity capital which is the component with the greatest loss-absorbing capacity.\n",
    "\n",
    "###### The concept of building internal models and external ratings for estimating PD, LGD and EAD remains same as it was in Basel II. However there are some changes introduced in Basel III. It is shown in the below.\n",
    "\n",
    "##### Basel II:\n",
    "- **Common Tier 1 capital ratio(shareholders’ equity + retained earnings)** - 2% * RWA\n",
    "- **Tier 1 capital ratio** - 4% * RWA\n",
    "- **Tier 2 capital ratio** - 4% * RWA\n",
    "\n",
    "##### Basel III\n",
    "- **Common Tier 1 capital ratio(shareholders’ equity + retained earnings)** - 4.5% * RWA\n",
    "- **Tier 1 capital ratio** - 6% * RWA\n",
    "- **Tier 2 capital ratio** - 2% * RWA\n",
    "- **Capital conservation buffer(common equity)** - 2.5% * RWA\n",
    "\n",
    "# --------------------------------------------------------------------------------------------------------------\n",
    "## IFRS 9\n",
    "**IFRS 9** is is an **International Financial Reporting Standard** dealing with accounting for financial instruments. It replaces IAS 39 Financial Instruments which was based on the incurred loss model whereas IFRS 9 focuses on the expected loss model that covers also future losses.\n",
    "\n",
    "In **IFRS 9**, the idea is to recognize 12-month loss allowance at initial recognition and lifetime loss allowance on significant increase in credit risk\n",
    "\n",
    "As per IFRS 9, there are three stages of Credit Risk which are as follows -\n",
    "- Stage 1 - Credit risk has not increased significantly since initial recognition, indicates low credit risk at reporting date\n",
    "- Stage 2 - Credit risk has increased significantly since initial recognition\n",
    "- Stage 3 - Permanent reduction in the value of financial asset at the reporting date\n",
    "\n",
    "### How IFRS 9 is different from Basel III?\n",
    "Yes, they are different but both requires building PD, LGD and EAD models. See the difference between them below.\n",
    "\n",
    "##### Basel III\n",
    "- **Objective:** Expected + Unexpected Loss\n",
    "- **PD:** One year PD\n",
    "- **Rating Philosophy:** TTC rating philosophy\n",
    "- **LGD:** Downturn LGD (both direct + indirect costs)\n",
    "- **EAD:** Downturn EAD\n",
    "- **Expected Loss /Expected CreditLoss (ECL):** EL=PD*LGD*EAD\n",
    "\n",
    "##### IFRS 9\n",
    "- **Objective:** Expected Loss\n",
    "- **PD:** 12 month PD for stage 1 assets, Lifetime PD for stage 2 and 3 assets\n",
    "- **Rating Philosophy:** PIT rating philosophy\n",
    "- **LGD:** Best estimate LGD (only direct costs)\n",
    "- **EAD:** Best estimate EAD\n",
    "- **Expected Loss /Expected CreditLoss (ECL):**\tEL=PD*PV of cash shortfalls\n",
    "\n"
   ]
  },
  {
   "cell_type": "markdown",
   "metadata": {},
   "source": [
    "## What is Credit Risk Modelling?\n",
    "Credit risk modeling refers to data driven risk models which calculates the chances of a borrower defaults on loan (or credit card). If a borrower fails to repay loan, how much amount he/she owes at the time of default and how much lender would lose from the outstanding amount. In other words, we need to build probability of default, loss given default and exposure at default models as per advanced IRB approach under Basel norms.\n",
    "\n",
    "**Probability of Default Modeling**: we cover various steps and methods related to PD modeling.\n",
    "\n",
    "**Define Dependent Variable**\n",
    "Binary variable having values 1 and 0. 1 refers to bad customers and 0 refers to good customers.\n",
    "\n",
    "**Bad Customers**: Customers who defaulted in payment. \n",
    "\n",
    "By 'default', it means if either or all of the following scenarios have taken place.\n",
    "- Payment due more than 90 days. In some countries, it is 120 or 180 days.\n",
    "- Borrower has filed for bankruptcy\n",
    "- Loan is partially or fully written off\n",
    "- Indeterminates or rollovers These customers fall into these 2 categories :\n",
    " -- Payment due 30 or max 60 days but paid after that. They are regular late payers.\n",
    " -- Inactive accounts\n",
    "\n",
    "All the other customers are **good customers.**\n",
    "\n",
    "Indeterminates should not be included as it would reduce the discrimination ability to distinguish between good and bad. It is important to note that we include these customers at the time of scoring.\n",
    "\n",
    "We consider 12 months as performance window to flag defaults which means if a customer has defaulted any time in next 12 months, it would be flagged as 'Bad'\n",
    "\n",
    "### Methodologies for Estimating PD\n",
    "There are two main methodologies for estimating Probability of Default.\n",
    "- **Judgmental Method**\n",
    "- **Statistical Method**\n",
    "\n",
    "##### Judgmental Method\n",
    "It relies on the knowledge of experienced credit professionals. It is generally based on five Cs of the applicant and loan.\n",
    "**Character :** Check credit history of borrower. If no credit history, bank can ask for referees who bank can contact to know about the reputation of borrower.\n",
    "**Capital :** Calculate difference between the borrower’s assets (e.g., car, house, etc.) and liabilities (e.g., renting expenses, etc.)\n",
    "**Collateral :** Value of the collateral (security) provided in case borrower fails to repay\n",
    "**Capacity :** Assess borrower’s ability to pay principal plus interest amount by checking job status, income etc.\n",
    "Conditions includes internal and external factors (e.g. economic recession, war, natural calamities etc.)\n",
    "\n",
    "**Judgmental methods** have become past as Statistical methods are more popular these days. **But it is still widely used when historical data is not available (especially new credit products).**\n",
    "\n",
    "##### Statistical Method\n",
    "In today's world, nobody has time to wait for 1-2 months to know about the status of loan. Also many borrowers apply for loan through bank's website. Hence real-time credit decisions by bank is required to remain competitive in the digital world. The advantage of using statistical method is that it produces mathematical equation which is an automated and faster solution for making credit decisions.\n",
    "This method is unbiased and free from dishonest or fraudulent conduct by loan approval officer or manager.\n",
    "\n",
    "This method also comes with higher accuracy as statistical and machine learning models considers hundreds of data points to identify defaulters.\n",
    "\n",
    "##### Data Sources for PD Modeling:\n",
    "- **Demographic Data :** Applicant's age, income, employment status, marital status, no. of years at current address, no. of years at job, postal code\n",
    "- **Existing Relationship :** Tenure, number of products, payment performance, previous claims\n",
    "- **Credit Bureau Variables :** Default or Delinquency history, Bureau score, Amount of credits, Inquiries etc.\n",
    "\n",
    "#### Steps of PD Modeling\n",
    "- Data Preparation\n",
    "- Variable Selection\n",
    "- Model Development\n",
    "- Model Validation\n",
    "- Calibration\n",
    "- Independent Validation\n",
    "- Supervisory Approval\n",
    "- Model Implementation : Roll out to users\n",
    "- Periodic Monitoring\n",
    "- Post Implementation Validation : Backtesting and Benchmarking\n",
    "- Model Refinement (if any issue)\n",
    "\n",
    "#### Statistical Techniques used for Model Development\n",
    "- Logistic Regression is most widely used technique for estimation of PD\n",
    "- Survival Analysis is generally used to compute lifetime PD (required for IFRS 9)\n",
    "- Random Forest\n",
    "- Gradient Boosting\n",
    "- Markov chain Modeling\n",
    "- Neural Network\n",
    "\n",
    "#### Model Performance in PD Model\n",
    "There are main 2 levels of performance testing -\n",
    "- **Discrimination :** Ability to differentiate between good (non-defaulters) and bad (defaulters) customers\n",
    "- **Calibration :** Check whether the actual default rate is close to predicted PD values\n",
    "\n",
    "#### Statistical Tests for Model Performance\n",
    "- **Discrimination :** Area under Curve, Gini coefficient, KS Statistics\n",
    "- **Calibration :** Hosmer and Lemeshow Test, Binomial Test\n",
    "\n",
    "#### Rating Philosophy\n",
    "It refers to the time horizon for which ratings measure credit risk and how much they are influenced by cyclic effects.\n",
    "\n",
    "**Point in time (PIT) PD**\n",
    "- It evaluates the chances of default at that point in time. It considers both current macro-economic factors and risk attributes of borrower.\n",
    "- Since it captures current macro-economic factors so PIT PD moves up as macro-economic conditions deteriorate and moves down as macro-economic conditions improve.\n",
    "- It focuses on reporting date\n",
    "- IFRS 9 requires PDs to be Point in time\n",
    "\n",
    "**Through the cycle (TTC) PD**\n",
    "- It predicts average default rate over an economic cycle and ignores short run changes to a customer's PD and closely resembles long-term average default rate.\n",
    "- Grade assigned is not dependent on current macro-economic factors\n",
    "- It focuses on long-run average PD\n",
    "- Basel III requires PDs to be Through the cycle\n",
    "\n",
    "In general, **hybrid model (considering both PIT and TTC)** is used.\n",
    "<img src='https://1.bp.blogspot.com/-BXw7M2nRTMk/XWWZFCgXVKI/AAAAAAAAICU/-1SuBvdLeU0qLA3gF8dXdA9ZZpXbPuocgCLcBGAs/s1600/Rating%2BModel.PNG'>"
   ]
  },
  {
   "cell_type": "markdown",
   "metadata": {},
   "source": [
    "### Credit Scoring and Scorecard\n",
    "**Probability of Default model** is used to score each customer to assess his/her likelihood of default. When you go to Bank for loan, they check your credit score. This credit score can be built internally by bank or Bank can use score of credit bureaus.\n",
    "\n",
    "Credit Bureaus collect individuals' credit information from various banks and sell it in the form of a credit report. They also release credit scores. In US, FICO score is very popular credit score ranging between 300 and 850. In India, CIBIL score is used for the same and lie between 300 and 900.\n",
    "\n",
    "**Types of Scorecards**\n",
    "**1. Application Scorecard :** It applies to new (first time) customers applying for loan or credit card. It estimate probability of default at time applicant applies for loan. See the example below how it works.\n",
    "\n",
    "<img src='https://3.bp.blogspot.com/-V9abmdoSzRM/XWaNCxoBQkI/AAAAAAAAIC8/MjZe1VasftEvJN5Gbp58gCh9p_a4SCHcwCLcBGAs/s1600/scorecard2.PNG'>\n",
    "\n",
    "**Suppose cutoff for granting loan = 350**\n",
    "\n",
    "**Profile of a New Customer**\n",
    "Age         30\n",
    "Gender Male\n",
    "Salary 15000\n",
    "\n",
    "Total Points = (100 + 85 + 120) = 305\n",
    "**Decision : Refuse Loan**\n",
    "\n",
    "#### Data required for application scorecard\n",
    "We use customer's application or demographic data along with credit bureau data. There is no observation window for historical data as these are new customers. Definition of Bad is same which is 90+ days past due. Performance window is generally 12 to 24 months from opening account.\n",
    "\n",
    "**Application scorecard** is used majorly for the following tasks:\n",
    "\n",
    "- To determine whether or not to approve a customer for a loan.\n",
    "- To assist in 'due diligence'. Suppose an applicant scoring very high or very low can be declined or approved outright without asking for further information.\n",
    "\n",
    "**2.Behavior Scorecard :** It applies to existing customers to assess whether customer will default in loan payment. Performance window is generally 6 to 18 months.\n",
    "\n",
    "**Behavior scorecard** is used majorly for the following tasks:\n",
    "\n",
    "To set credit limit i.e. increase or decrease credit limit\n",
    "- Debt provisioning and profit scoring.\n",
    "- Renewals\n",
    "\n",
    "#### Difference between Application and Behavior Scorecard\n",
    "**Application scorecard** is applied on new customers (generally lower than 1 year) whereas Behavior scorecard is applied on existing customers (greater than 1 year). For application scorecard, we don't require well-calibrated default probabilities. But calibrated default probabilities are required for behavior scorecard as per Basel norms. These two scorecards are also different in terms of usage. See the explanation above in their respective section how they are generally used.\n",
    "\n",
    "<img src= https://2.bp.blogspot.com/-rq6SQZ0tE74/XWaFF0TeUuI/AAAAAAAAICw/q9A-NtBrGVs-tQS2DtG_2SYwTq3BUAQVgCLcBGAs/s1600/scorecard.png>\n",
    "\n",
    "#### Collections Scoring\n",
    "It predicts probability that a loan already late for a given number of days will be late for another given number of days. They are typically built for performance windows of one month.\n",
    "#### Desertion Scoring\n",
    "It predicts the probability a borrower will apply for a new loan once the current loan is paid off.\n",
    "\n",
    "#### Important Terminologies related to Credit Risk\n",
    "#### Stressed PD vs. Unstressed PD\n",
    "**Stressed PD:** A stressed PD depends on the risk attributes of borrower but is not highly affected by macroeconomic factors as adverse economic conditions are already factored into it.\n",
    "**Unstressed PD:** An unstressed PD depends on both current macroeconomic and risk attributes of borrower. It moves up or down depending on the economic conditions.\n",
    "\n",
    "#### Downturn LGD and EAD\n",
    "Under Basel II and III, financial institutions need to estimate downturn LGD and EAD. By **'downturn'**, it means at least two consecutive quarters of negative growth in real GDP. It is required because LGD and EAD can be affected by downturn economic conditions.\n",
    "\n",
    "**Conditional PD**\n",
    "It is the probability of default during the second year given that it does not default during the first year. \n",
    "\n",
    "To calculate conditional PD, we need probability of not defaulting by the end of year 1 (P0) and unconditional probability of defaulting during the second year (P1). If P0=0.5 and P1=0.1 so Conditional PD i.e. Prob(default | Survival) would be 0.1/0.5 = 20%\n",
    "\n",
    "**Lifetime PD vs 12 month PD**\n",
    "As per IFRS 9, we require two types of PDs for calculating expected credit losses (ECL).\n",
    "- **12-month PDs for stage 1 assets** - Chances of default within the next 12 months\n",
    "- **Lifetime PDs for stage 2 and 3 assets** - Chances of default over the remaining life of the financial instrument.\n",
    "\n",
    "- Suppose 12-month PD is 3% which means survival rate is 97% (1 - PD). \n",
    "- 2nd and 3rd year conditional PD is 4% and 5%.\n",
    "- 1st year cumulative survival rate (CSR) is same as first year survival rate (SR).\n",
    "- 2nd year cumulative survival rate = 1st year CSR * SR of 2nd year = 97% * 96% = 93%\n",
    "- 3rd year cumulative survival rate = 2nd year CSR * SR of 3rd year = 93% * 95% = 88%\n",
    "- Lifetime PD = 1 - 88% = 12%\n",
    "\n",
    "**Macroeconomic factors to consider to estimate ECL**\n",
    "- GDP\n",
    "- Unemployment rate\n",
    "- Index of Industrial Production\n",
    "- Import\n",
    "- Export\n",
    "- Interest rate\n",
    "- Inflation rate\n",
    "- House price index\n",
    "- Exchange rate\n",
    "\n",
    "##### Softwares used in risk analytics\n",
    "Let's split this section into two parts -\n",
    "\n",
    "##### **1. Data Extraction**\n",
    "Most of the data is stored in relational databases (SQL Server, Teradata). Analyst need to have expert level knowledge of SQL to extract or manipulate data. Data is not saved in a single SQL table or database. In order to extract relevant data fields from database, you need to select multiple tables and join them based on matching key(s). During this process, you need to apply some business rules (excluding some type of customers or accounts). \n",
    "\n",
    "##### **2. Model Building & Validation**\n",
    "SAS, R and Python are the most widely used software in risk analytics. \n"
   ]
  },
  {
   "cell_type": "code",
   "execution_count": 1,
   "metadata": {},
   "outputs": [
    {
     "data": {
      "text/plain": [
       "<Figure size 720x540 with 0 Axes>"
      ]
     },
     "metadata": {},
     "output_type": "display_data"
    }
   ],
   "source": [
    "#Case study: Bank loans - PD Model creation for application score card\n",
    "import pandas as pd\n",
    "import numpy as np\n",
    "import seaborn as sns\n",
    "import matplotlib.pyplot as plt\n",
    "\n",
    "import statsmodels.formula.api as smf\n",
    "import scipy.stats as stats\n",
    "import pandas_profiling   #need to install using anaconda prompt (pip install pandas_profiling)\n",
    "\n",
    "%matplotlib inline\n",
    "plt.rcParams['figure.figsize'] = 10, 7.5\n",
    "plt.rcParams['axes.grid'] = True\n",
    "plt.gray()\n",
    "\n",
    "from matplotlib.backends.backend_pdf import PdfPages\n",
    "\n",
    "from sklearn.model_selection import train_test_split\n",
    "from sklearn import metrics\n",
    "from sklearn.linear_model import LogisticRegression\n",
    "from statsmodels.stats.outliers_influence import variance_inflation_factor"
   ]
  },
  {
   "cell_type": "code",
   "execution_count": 2,
   "metadata": {},
   "outputs": [],
   "source": [
    "# Load the data\n",
    "bankloans = pd.read_csv( 'bankloans.csv' )"
   ]
  },
  {
   "cell_type": "code",
   "execution_count": 3,
   "metadata": {},
   "outputs": [],
   "source": [
    "#pandas_profiling.ProfileReport(bankloans)"
   ]
  },
  {
   "cell_type": "code",
   "execution_count": 4,
   "metadata": {},
   "outputs": [
    {
     "data": {
      "application/vnd.jupyter.widget-view+json": {
       "model_id": "840c9918af95457d830002861fcdd669",
       "version_major": 2,
       "version_minor": 0
      },
      "text/plain": [
       "Summarize dataset:   0%|          | 0/22 [00:00<?, ?it/s]"
      ]
     },
     "metadata": {},
     "output_type": "display_data"
    },
    {
     "data": {
      "application/vnd.jupyter.widget-view+json": {
       "model_id": "5ba730af3e7a417aae699bf4905d19f4",
       "version_major": 2,
       "version_minor": 0
      },
      "text/plain": [
       "Generate report structure:   0%|          | 0/1 [00:00<?, ?it/s]"
      ]
     },
     "metadata": {},
     "output_type": "display_data"
    },
    {
     "data": {
      "application/vnd.jupyter.widget-view+json": {
       "model_id": "cdd720399b554f948d174492fb402567",
       "version_major": 2,
       "version_minor": 0
      },
      "text/plain": [
       "Render HTML:   0%|          | 0/1 [00:00<?, ?it/s]"
      ]
     },
     "metadata": {},
     "output_type": "display_data"
    },
    {
     "data": {
      "application/vnd.jupyter.widget-view+json": {
       "model_id": "ae13c75cdec146e2a6fee65bdf4d62d5",
       "version_major": 2,
       "version_minor": 0
      },
      "text/plain": [
       "Export report to file:   0%|          | 0/1 [00:00<?, ?it/s]"
      ]
     },
     "metadata": {},
     "output_type": "display_data"
    }
   ],
   "source": [
    "profile_report = pandas_profiling.ProfileReport(bankloans)\n",
    "profile_report.to_file('profileReport.html')"
   ]
  },
  {
   "cell_type": "code",
   "execution_count": 5,
   "metadata": {},
   "outputs": [],
   "source": [
    "bankloans_existing = bankloans[bankloans.default.isnull()==0]\n",
    "bankloans_new = bankloans[bankloans.default.isnull()==1]"
   ]
  },
  {
   "cell_type": "code",
   "execution_count": 6,
   "metadata": {},
   "outputs": [
    {
     "data": {
      "text/plain": [
       "(700, 9)"
      ]
     },
     "execution_count": 6,
     "metadata": {},
     "output_type": "execute_result"
    }
   ],
   "source": [
    "bankloans_existing.shape"
   ]
  },
  {
   "cell_type": "code",
   "execution_count": 7,
   "metadata": {},
   "outputs": [
    {
     "data": {
      "text/plain": [
       "(150, 9)"
      ]
     },
     "execution_count": 7,
     "metadata": {},
     "output_type": "execute_result"
    }
   ],
   "source": [
    "bankloans_new.shape"
   ]
  },
  {
   "cell_type": "code",
   "execution_count": 9,
   "metadata": {},
   "outputs": [],
   "source": [
    "#Missing vlaue treatment\n",
    "def missings_treat(x):\n",
    "    x = x.fillna(x.median())\n",
    "    return x\n",
    "\n",
    "#Handling Outliers - Method2\n",
    "def outlier_capping(x):\n",
    "    x = x.clip(upper = x.quantile(0.99), lower =x.quantile(0.01) )\n",
    "    return x\n",
    "\n",
    "bankloans_existing=bankloans_existing.apply(lambda x: missings_treat(x))\n",
    "bankloans_existing=bankloans_existing.apply(lambda x: outlier_capping(x))"
   ]
  },
  {
   "cell_type": "code",
   "execution_count": 10,
   "metadata": {},
   "outputs": [
    {
     "data": {
      "text/html": [
       "<div>\n",
       "<style scoped>\n",
       "    .dataframe tbody tr th:only-of-type {\n",
       "        vertical-align: middle;\n",
       "    }\n",
       "\n",
       "    .dataframe tbody tr th {\n",
       "        vertical-align: top;\n",
       "    }\n",
       "\n",
       "    .dataframe thead th {\n",
       "        text-align: right;\n",
       "    }\n",
       "</style>\n",
       "<table border=\"1\" class=\"dataframe\">\n",
       "  <thead>\n",
       "    <tr style=\"text-align: right;\">\n",
       "      <th></th>\n",
       "      <th>age</th>\n",
       "      <th>ed</th>\n",
       "      <th>employ</th>\n",
       "      <th>address</th>\n",
       "      <th>income</th>\n",
       "      <th>debtinc</th>\n",
       "      <th>creddebt</th>\n",
       "      <th>othdebt</th>\n",
       "      <th>default</th>\n",
       "    </tr>\n",
       "  </thead>\n",
       "  <tbody>\n",
       "    <tr>\n",
       "      <th>0</th>\n",
       "      <td>41.0</td>\n",
       "      <td>3</td>\n",
       "      <td>17.0</td>\n",
       "      <td>12.0</td>\n",
       "      <td>176.0</td>\n",
       "      <td>9.3</td>\n",
       "      <td>9.891428</td>\n",
       "      <td>5.008608</td>\n",
       "      <td>1.0</td>\n",
       "    </tr>\n",
       "    <tr>\n",
       "      <th>1</th>\n",
       "      <td>27.0</td>\n",
       "      <td>1</td>\n",
       "      <td>10.0</td>\n",
       "      <td>6.0</td>\n",
       "      <td>31.0</td>\n",
       "      <td>17.3</td>\n",
       "      <td>1.362202</td>\n",
       "      <td>4.000798</td>\n",
       "      <td>0.0</td>\n",
       "    </tr>\n",
       "    <tr>\n",
       "      <th>2</th>\n",
       "      <td>40.0</td>\n",
       "      <td>1</td>\n",
       "      <td>15.0</td>\n",
       "      <td>14.0</td>\n",
       "      <td>55.0</td>\n",
       "      <td>5.5</td>\n",
       "      <td>0.856075</td>\n",
       "      <td>2.168925</td>\n",
       "      <td>0.0</td>\n",
       "    </tr>\n",
       "    <tr>\n",
       "      <th>3</th>\n",
       "      <td>41.0</td>\n",
       "      <td>1</td>\n",
       "      <td>15.0</td>\n",
       "      <td>14.0</td>\n",
       "      <td>120.0</td>\n",
       "      <td>2.9</td>\n",
       "      <td>2.658720</td>\n",
       "      <td>0.821280</td>\n",
       "      <td>0.0</td>\n",
       "    </tr>\n",
       "    <tr>\n",
       "      <th>4</th>\n",
       "      <td>24.0</td>\n",
       "      <td>2</td>\n",
       "      <td>2.0</td>\n",
       "      <td>0.0</td>\n",
       "      <td>28.0</td>\n",
       "      <td>17.3</td>\n",
       "      <td>1.787436</td>\n",
       "      <td>3.056564</td>\n",
       "      <td>1.0</td>\n",
       "    </tr>\n",
       "    <tr>\n",
       "      <th>...</th>\n",
       "      <td>...</td>\n",
       "      <td>...</td>\n",
       "      <td>...</td>\n",
       "      <td>...</td>\n",
       "      <td>...</td>\n",
       "      <td>...</td>\n",
       "      <td>...</td>\n",
       "      <td>...</td>\n",
       "      <td>...</td>\n",
       "    </tr>\n",
       "    <tr>\n",
       "      <th>695</th>\n",
       "      <td>36.0</td>\n",
       "      <td>2</td>\n",
       "      <td>6.0</td>\n",
       "      <td>15.0</td>\n",
       "      <td>27.0</td>\n",
       "      <td>4.6</td>\n",
       "      <td>0.262062</td>\n",
       "      <td>0.979938</td>\n",
       "      <td>1.0</td>\n",
       "    </tr>\n",
       "    <tr>\n",
       "      <th>696</th>\n",
       "      <td>29.0</td>\n",
       "      <td>2</td>\n",
       "      <td>6.0</td>\n",
       "      <td>4.0</td>\n",
       "      <td>21.0</td>\n",
       "      <td>11.5</td>\n",
       "      <td>0.369495</td>\n",
       "      <td>2.045505</td>\n",
       "      <td>0.0</td>\n",
       "    </tr>\n",
       "    <tr>\n",
       "      <th>697</th>\n",
       "      <td>33.0</td>\n",
       "      <td>1</td>\n",
       "      <td>15.0</td>\n",
       "      <td>3.0</td>\n",
       "      <td>32.0</td>\n",
       "      <td>7.6</td>\n",
       "      <td>0.491264</td>\n",
       "      <td>1.940736</td>\n",
       "      <td>0.0</td>\n",
       "    </tr>\n",
       "    <tr>\n",
       "      <th>698</th>\n",
       "      <td>45.0</td>\n",
       "      <td>1</td>\n",
       "      <td>19.0</td>\n",
       "      <td>22.0</td>\n",
       "      <td>77.0</td>\n",
       "      <td>8.4</td>\n",
       "      <td>2.302608</td>\n",
       "      <td>4.165392</td>\n",
       "      <td>0.0</td>\n",
       "    </tr>\n",
       "    <tr>\n",
       "      <th>699</th>\n",
       "      <td>37.0</td>\n",
       "      <td>1</td>\n",
       "      <td>12.0</td>\n",
       "      <td>14.0</td>\n",
       "      <td>44.0</td>\n",
       "      <td>14.7</td>\n",
       "      <td>2.994684</td>\n",
       "      <td>3.473316</td>\n",
       "      <td>0.0</td>\n",
       "    </tr>\n",
       "  </tbody>\n",
       "</table>\n",
       "<p>700 rows × 9 columns</p>\n",
       "</div>"
      ],
      "text/plain": [
       "      age  ed  employ  address  income  debtinc  creddebt   othdebt  default\n",
       "0    41.0   3    17.0     12.0   176.0      9.3  9.891428  5.008608      1.0\n",
       "1    27.0   1    10.0      6.0    31.0     17.3  1.362202  4.000798      0.0\n",
       "2    40.0   1    15.0     14.0    55.0      5.5  0.856075  2.168925      0.0\n",
       "3    41.0   1    15.0     14.0   120.0      2.9  2.658720  0.821280      0.0\n",
       "4    24.0   2     2.0      0.0    28.0     17.3  1.787436  3.056564      1.0\n",
       "..    ...  ..     ...      ...     ...      ...       ...       ...      ...\n",
       "695  36.0   2     6.0     15.0    27.0      4.6  0.262062  0.979938      1.0\n",
       "696  29.0   2     6.0      4.0    21.0     11.5  0.369495  2.045505      0.0\n",
       "697  33.0   1    15.0      3.0    32.0      7.6  0.491264  1.940736      0.0\n",
       "698  45.0   1    19.0     22.0    77.0      8.4  2.302608  4.165392      0.0\n",
       "699  37.0   1    12.0     14.0    44.0     14.7  2.994684  3.473316      0.0\n",
       "\n",
       "[700 rows x 9 columns]"
      ]
     },
     "execution_count": 10,
     "metadata": {},
     "output_type": "execute_result"
    }
   ],
   "source": [
    "bankloans_existing"
   ]
  },
  {
   "cell_type": "code",
   "execution_count": 11,
   "metadata": {},
   "outputs": [],
   "source": [
    "#Information value calculation\n",
    "def calculate_woe_iv(dataset, feature, target):\n",
    "    lst = []\n",
    "    for i in range(dataset[feature].nunique()):\n",
    "        val = list(dataset[feature].unique())[i]\n",
    "        lst.append({\n",
    "            'Value': val,\n",
    "            'All': dataset[dataset[feature] == val].count()[feature],\n",
    "            'Good': dataset[(dataset[feature] == val) & (dataset[target] == 0)].count()[feature],\n",
    "            'Bad': dataset[(dataset[feature] == val) & (dataset[target] == 1)].count()[feature]\n",
    "        })\n",
    "        \n",
    "    dset = pd.DataFrame(lst)\n",
    "    dset['Distr_Good'] = dset['Good'] / dset['Good'].sum()\n",
    "    dset['Distr_Bad'] = dset['Bad'] / dset['Bad'].sum()\n",
    "    dset['WoE'] = np.log(dset['Distr_Good'] / dset['Distr_Bad'])\n",
    "    dset = dset.replace({'WoE': {np.inf: 0, -np.inf: 0}})\n",
    "    dset['IV'] = (dset['Distr_Good'] - dset['Distr_Bad']) * dset['WoE']\n",
    "    iv = dset['IV'].sum()\n",
    "    \n",
    "    dset = dset.sort_values(by='WoE')\n",
    "    \n",
    "    return dset, iv"
   ]
  },
  {
   "cell_type": "code",
   "execution_count": 12,
   "metadata": {},
   "outputs": [
    {
     "name": "stdout",
     "output_type": "stream",
     "text": [
      "WoE and IV for column: age\n",
      "IV score: 0.41\n",
      "\n",
      "\n",
      "WoE and IV for column: ed\n",
      "IV score: 0.08\n",
      "\n",
      "\n",
      "WoE and IV for column: employ\n",
      "IV score: 0.60\n",
      "\n",
      "\n",
      "WoE and IV for column: address\n",
      "IV score: 0.46\n",
      "\n",
      "\n",
      "WoE and IV for column: income\n",
      "IV score: 0.40\n",
      "\n",
      "\n",
      "WoE and IV for column: debtinc\n",
      "IV score: 0.59\n",
      "\n",
      "\n",
      "WoE and IV for column: creddebt\n",
      "IV score: 0.00\n",
      "\n",
      "\n",
      "WoE and IV for column: othdebt\n",
      "IV score: 0.05\n",
      "\n",
      "\n"
     ]
    }
   ],
   "source": [
    "for col in bankloans_existing.columns:\n",
    "    if col == 'default': continue\n",
    "    else:\n",
    "        print('WoE and IV for column: {}'.format(col))\n",
    "        df, iv = calculate_woe_iv(bankloans_existing, col, 'default')\n",
    "        #print(df)\n",
    "        print('IV score: {:.2f}'.format(iv))\n",
    "        print('\\n')"
   ]
  },
  {
   "cell_type": "code",
   "execution_count": 13,
   "metadata": {},
   "outputs": [],
   "source": [
    "#important variables using informaiton value: age, employ, address, income, debtinc"
   ]
  },
  {
   "cell_type": "code",
   "execution_count": 14,
   "metadata": {},
   "outputs": [
    {
     "name": "stdout",
     "output_type": "stream",
     "text": [
      "Optimization terminated successfully.\n",
      "         Current function value: 0.527166\n",
      "         Iterations 6\n"
     ]
    }
   ],
   "source": [
    "#Univariate Regression\n",
    "model = smf.logit('default~employ', bankloans_existing).fit()"
   ]
  },
  {
   "cell_type": "code",
   "execution_count": 15,
   "metadata": {},
   "outputs": [
    {
     "data": {
      "text/plain": [
       "array([0.09166577, 0.19686994, 0.11507744, 0.11507744, 0.40330834,\n",
       "       0.31603539, 0.0645362 , 0.15982349, 0.37320693, 0.46552216,\n",
       "       0.46552216, 0.34405674, 0.03988881, 0.2892897 , 0.05081632,\n",
       "       0.21768829, 0.14352373, 0.04503782, 0.2892897 , 0.46552216,\n",
       "       0.05081632, 0.09166577, 0.37320693, 0.24005011, 0.43415592,\n",
       "       0.46552216, 0.21768829, 0.03530669, 0.15982349, 0.40330834,\n",
       "       0.37320693, 0.43415592, 0.40330834, 0.24005011, 0.24005011,\n",
       "       0.2892897 , 0.19686994, 0.15982349, 0.43415592, 0.04503782,\n",
       "       0.26393403, 0.09166577, 0.26393403, 0.07262614, 0.46552216,\n",
       "       0.46552216, 0.14352373, 0.34405674, 0.46552216, 0.08164169,\n",
       "       0.40330834, 0.43415592, 0.10278288, 0.37320693, 0.37320693,\n",
       "       0.43415592, 0.21768829, 0.10278288, 0.08164169, 0.19686994,\n",
       "       0.21768829, 0.14352373, 0.34405674, 0.34405674, 0.31603539,\n",
       "       0.17759056, 0.40330834, 0.07262614, 0.24005011, 0.43415592,\n",
       "       0.37320693, 0.31603539, 0.03123382, 0.43415592, 0.14352373,\n",
       "       0.14352373, 0.40330834, 0.43415592, 0.1286318 , 0.11507744,\n",
       "       0.34405674, 0.17759056, 0.26393403, 0.34405674, 0.34405674,\n",
       "       0.19686994, 0.31603539, 0.31603539, 0.15982349, 0.46552216,\n",
       "       0.37320693, 0.43415592, 0.31603539, 0.46552216, 0.40330834,\n",
       "       0.09166577, 0.14352373, 0.1286318 , 0.34405674, 0.34405674,\n",
       "       0.05081632, 0.2892897 , 0.24005011, 0.05729173, 0.05081632,\n",
       "       0.24005011, 0.21768829, 0.34405674, 0.15982349, 0.21768829,\n",
       "       0.40330834, 0.2892897 , 0.46552216, 0.15982349, 0.10278288,\n",
       "       0.34405674, 0.21768829, 0.11507744, 0.46552216, 0.43415592,\n",
       "       0.15982349, 0.37320693, 0.2892897 , 0.40330834, 0.31603539,\n",
       "       0.26393403, 0.26393403, 0.21768829, 0.31603539, 0.07262614,\n",
       "       0.43415592, 0.31603539, 0.08164169, 0.09166577, 0.26393403,\n",
       "       0.2892897 , 0.43415592, 0.14352373, 0.24005011, 0.34405674,\n",
       "       0.46552216, 0.21768829, 0.10278288, 0.17759056, 0.10278288,\n",
       "       0.31603539, 0.43415592, 0.40330834, 0.17759056, 0.24005011,\n",
       "       0.11507744, 0.14352373, 0.34405674, 0.24005011, 0.37320693,\n",
       "       0.14352373, 0.15982349, 0.21768829, 0.21768829, 0.21768829,\n",
       "       0.34405674, 0.31603539, 0.40330834, 0.24005011, 0.43415592,\n",
       "       0.14352373, 0.34405674, 0.34405674, 0.1286318 , 0.10278288,\n",
       "       0.26393403, 0.34405674, 0.43415592, 0.1286318 , 0.2892897 ,\n",
       "       0.2892897 , 0.43415592, 0.26393403, 0.14352373, 0.40330834,\n",
       "       0.15982349, 0.24005011, 0.10278288, 0.19686994, 0.46552216,\n",
       "       0.14352373, 0.1286318 , 0.17759056, 0.43415592, 0.07262614,\n",
       "       0.34405674, 0.43415592, 0.19686994, 0.43415592, 0.14352373,\n",
       "       0.34405674, 0.43415592, 0.21768829, 0.24005011, 0.2892897 ,\n",
       "       0.37320693, 0.24005011, 0.37320693, 0.46552216, 0.26393403,\n",
       "       0.09166577, 0.26393403, 0.2892897 , 0.1286318 , 0.2892897 ,\n",
       "       0.10278288, 0.31603539, 0.43415592, 0.31603539, 0.10278288,\n",
       "       0.15982349, 0.1286318 , 0.05729173, 0.26393403, 0.46552216,\n",
       "       0.17759056, 0.46552216, 0.09166577, 0.31603539, 0.21768829,\n",
       "       0.31603539, 0.19686994, 0.31603539, 0.46552216, 0.26393403,\n",
       "       0.21768829, 0.37320693, 0.24005011, 0.31603539, 0.17759056,\n",
       "       0.26393403, 0.34405674, 0.40330834, 0.17759056, 0.2892897 ,\n",
       "       0.34405674, 0.19686994, 0.26393403, 0.05729173, 0.37320693,\n",
       "       0.15982349, 0.11507744, 0.31603539, 0.11507744, 0.19686994,\n",
       "       0.05081632, 0.14352373, 0.14352373, 0.43415592, 0.31603539,\n",
       "       0.07262614, 0.08164169, 0.40330834, 0.10278288, 0.19686994,\n",
       "       0.11507744, 0.24005011, 0.24005011, 0.21768829, 0.21768829,\n",
       "       0.26393403, 0.46552216, 0.21768829, 0.40330834, 0.07262614,\n",
       "       0.05081632, 0.34405674, 0.2892897 , 0.10278288, 0.2892897 ,\n",
       "       0.43415592, 0.40330834, 0.1286318 , 0.46552216, 0.14352373,\n",
       "       0.17759056, 0.11507744, 0.24005011, 0.43415592, 0.21768829,\n",
       "       0.21768829, 0.17759056, 0.40330834, 0.10278288, 0.17759056,\n",
       "       0.37320693, 0.21768829, 0.07262614, 0.34405674, 0.19686994,\n",
       "       0.19686994, 0.37320693, 0.46552216, 0.34405674, 0.0645362 ,\n",
       "       0.0275833 , 0.2892897 , 0.05081632, 0.2892897 , 0.31603539,\n",
       "       0.21768829, 0.17759056, 0.10278288, 0.19686994, 0.34405674,\n",
       "       0.07262614, 0.08164169, 0.40330834, 0.2892897 , 0.43415592,\n",
       "       0.34405674, 0.10278288, 0.46552216, 0.34405674, 0.34405674,\n",
       "       0.24005011, 0.37320693, 0.10278288, 0.46552216, 0.31603539,\n",
       "       0.03530669, 0.15982349, 0.40330834, 0.43415592, 0.24005011,\n",
       "       0.43415592, 0.37320693, 0.40330834, 0.46552216, 0.10278288,\n",
       "       0.17759056, 0.26393403, 0.0645362 , 0.2892897 , 0.34405674,\n",
       "       0.2892897 , 0.34405674, 0.11507744, 0.31603539, 0.08164169,\n",
       "       0.46552216, 0.37320693, 0.19686994, 0.37320693, 0.40330834,\n",
       "       0.24005011, 0.43415592, 0.19686994, 0.2892897 , 0.08164169,\n",
       "       0.26393403, 0.40330834, 0.46552216, 0.21768829, 0.46552216,\n",
       "       0.14352373, 0.1286318 , 0.2892897 , 0.40330834, 0.46552216,\n",
       "       0.37320693, 0.31603539, 0.08164169, 0.08164169, 0.05081632,\n",
       "       0.14352373, 0.26393403, 0.24005011, 0.1286318 , 0.0645362 ,\n",
       "       0.43415592, 0.26393403, 0.43415592, 0.11507744, 0.19686994,\n",
       "       0.15982349, 0.14352373, 0.40330834, 0.37320693, 0.21768829,\n",
       "       0.37320693, 0.26393403, 0.11507744, 0.26393403, 0.14352373,\n",
       "       0.05081632, 0.40330834, 0.40330834, 0.31603539, 0.21768829,\n",
       "       0.31603539, 0.1286318 , 0.17759056, 0.46552216, 0.40330834,\n",
       "       0.46552216, 0.34405674, 0.31603539, 0.46552216, 0.08164169,\n",
       "       0.10278288, 0.15982349, 0.46552216, 0.14352373, 0.19686994,\n",
       "       0.05729173, 0.05081632, 0.1286318 , 0.46552216, 0.43415592,\n",
       "       0.24005011, 0.43415592, 0.34405674, 0.17759056, 0.07262614,\n",
       "       0.43415592, 0.10278288, 0.37320693, 0.24005011, 0.46552216,\n",
       "       0.24005011, 0.46552216, 0.10278288, 0.40330834, 0.05729173,\n",
       "       0.15982349, 0.17759056, 0.21768829, 0.46552216, 0.21768829,\n",
       "       0.43415592, 0.46552216, 0.08164169, 0.24005011, 0.10278288,\n",
       "       0.05081632, 0.19686994, 0.04503782, 0.37320693, 0.08164169,\n",
       "       0.17759056, 0.31603539, 0.26393403, 0.37320693, 0.40330834,\n",
       "       0.03530669, 0.2892897 , 0.17759056, 0.46552216, 0.43415592,\n",
       "       0.46552216, 0.21768829, 0.34405674, 0.43415592, 0.19686994,\n",
       "       0.24005011, 0.46552216, 0.21768829, 0.21768829, 0.46552216,\n",
       "       0.34405674, 0.10278288, 0.2892897 , 0.2892897 , 0.40330834,\n",
       "       0.26393403, 0.46552216, 0.15982349, 0.43415592, 0.14352373,\n",
       "       0.15982349, 0.37320693, 0.31603539, 0.02761732, 0.05729173,\n",
       "       0.21768829, 0.40330834, 0.31603539, 0.2892897 , 0.31603539,\n",
       "       0.34405674, 0.40330834, 0.19686994, 0.46552216, 0.11507744,\n",
       "       0.14352373, 0.14352373, 0.46552216, 0.15982349, 0.37320693,\n",
       "       0.34405674, 0.15982349, 0.15982349, 0.46552216, 0.2892897 ,\n",
       "       0.46552216, 0.37320693, 0.2892897 , 0.37320693, 0.43415592,\n",
       "       0.40330834, 0.07262614, 0.21768829, 0.43415592, 0.07262614,\n",
       "       0.37320693, 0.14352373, 0.2892897 , 0.2892897 , 0.1286318 ,\n",
       "       0.17759056, 0.05081632, 0.46552216, 0.26393403, 0.21768829,\n",
       "       0.26393403, 0.31603539, 0.34405674, 0.09166577, 0.40330834,\n",
       "       0.2892897 , 0.19686994, 0.37320693, 0.0275833 , 0.34405674,\n",
       "       0.2892897 , 0.43415592, 0.40330834, 0.21768829, 0.40330834,\n",
       "       0.11507744, 0.21768829, 0.31603539, 0.08164169, 0.37320693,\n",
       "       0.10278288, 0.19686994, 0.15982349, 0.34405674, 0.14352373,\n",
       "       0.19686994, 0.21768829, 0.19686994, 0.34405674, 0.15982349,\n",
       "       0.46552216, 0.46552216, 0.15982349, 0.09166577, 0.05729173,\n",
       "       0.24005011, 0.26393403, 0.14352373, 0.40330834, 0.11507744,\n",
       "       0.19686994, 0.21768829, 0.04503782, 0.17759056, 0.26393403,\n",
       "       0.1286318 , 0.15982349, 0.21768829, 0.31603539, 0.08164169,\n",
       "       0.46552216, 0.43415592, 0.04503782, 0.37320693, 0.21768829,\n",
       "       0.46552216, 0.24005011, 0.05081632, 0.37320693, 0.2892897 ,\n",
       "       0.40330834, 0.24005011, 0.21768829, 0.10278288, 0.46552216,\n",
       "       0.21768829, 0.24005011, 0.09166577, 0.21768829, 0.37320693,\n",
       "       0.19686994, 0.46552216, 0.26393403, 0.26393403, 0.40330834,\n",
       "       0.19686994, 0.43415592, 0.31603539, 0.40330834, 0.37320693,\n",
       "       0.34405674, 0.03988881, 0.17759056, 0.21768829, 0.37320693,\n",
       "       0.02761732, 0.43415592, 0.37320693, 0.26393403, 0.26393403,\n",
       "       0.34405674, 0.21768829, 0.37320693, 0.09166577, 0.19686994,\n",
       "       0.0645362 , 0.46552216, 0.2892897 , 0.37320693, 0.26393403,\n",
       "       0.43415592, 0.40330834, 0.0275833 , 0.08164169, 0.2892897 ,\n",
       "       0.11507744, 0.17759056, 0.37320693, 0.40330834, 0.2892897 ,\n",
       "       0.26393403, 0.08164169, 0.0275833 , 0.43415592, 0.15982349,\n",
       "       0.03988881, 0.46552216, 0.26393403, 0.2892897 , 0.26393403,\n",
       "       0.43415592, 0.10278288, 0.2892897 , 0.31603539, 0.0275833 ,\n",
       "       0.46552216, 0.17759056, 0.2892897 , 0.17759056, 0.31603539,\n",
       "       0.2892897 , 0.34405674, 0.15982349, 0.40330834, 0.17759056,\n",
       "       0.11507744, 0.15982349, 0.10278288, 0.34405674, 0.15982349,\n",
       "       0.40330834, 0.46552216, 0.2892897 , 0.17759056, 0.11507744,\n",
       "       0.03988881, 0.05729173, 0.46552216, 0.26393403, 0.19686994,\n",
       "       0.37320693, 0.46552216, 0.2892897 , 0.46552216, 0.34405674,\n",
       "       0.0275833 , 0.24005011, 0.2892897 , 0.21768829, 0.09166577,\n",
       "       0.26393403, 0.34405674, 0.43415592, 0.43415592, 0.08164169,\n",
       "       0.26393403, 0.43415592, 0.19686994, 0.15982349, 0.34405674,\n",
       "       0.46552216, 0.0275833 , 0.46552216, 0.46552216, 0.2892897 ,\n",
       "       0.2892897 , 0.2892897 , 0.11507744, 0.07262614, 0.15982349])"
      ]
     },
     "execution_count": 15,
     "metadata": {},
     "output_type": "execute_result"
    }
   ],
   "source": [
    "model.predict()"
   ]
  },
  {
   "cell_type": "code",
   "execution_count": 16,
   "metadata": {},
   "outputs": [],
   "source": [
    "import sklearn.metrics as metrics"
   ]
  },
  {
   "cell_type": "code",
   "execution_count": 17,
   "metadata": {},
   "outputs": [
    {
     "data": {
      "text/plain": [
       "0.40913847227066613"
      ]
     },
     "execution_count": 17,
     "metadata": {},
     "output_type": "execute_result"
    }
   ],
   "source": [
    "#SomerceD\n",
    "2*metrics.roc_auc_score(bankloans_existing.default, model.predict())-1"
   ]
  },
  {
   "cell_type": "code",
   "execution_count": 18,
   "metadata": {},
   "outputs": [
    {
     "name": "stdout",
     "output_type": "stream",
     "text": [
      "Optimization terminated successfully.\n",
      "         Current function value: 0.559856\n",
      "         Iterations 5\n",
      "Optimization terminated successfully.\n",
      "         Current function value: 0.564673\n",
      "         Iterations 5\n",
      "Optimization terminated successfully.\n",
      "         Current function value: 0.548956\n",
      "         Iterations 5\n",
      "Optimization terminated successfully.\n",
      "         Current function value: 0.501389\n",
      "         Iterations 6\n",
      "Optimization terminated successfully.\n",
      "         Current function value: 0.567774\n",
      "         Iterations 5\n",
      "Optimization terminated successfully.\n",
      "         Current function value: 0.527166\n",
      "         Iterations 6\n",
      "Optimization terminated successfully.\n",
      "         Current function value: 0.569055\n",
      "         Iterations 6\n",
      "Optimization terminated successfully.\n",
      "         Current function value: 0.565619\n",
      "         Iterations 5\n"
     ]
    }
   ],
   "source": [
    "gini_df = pd.DataFrame()\n",
    "for col in bankloans_existing.columns.difference(['default']):\n",
    "    model = smf.logit('default~'+str(col), data=bankloans_existing).fit()\n",
    "    gini = 2*metrics.roc_auc_score(bankloans_existing.default, model.predict(bankloans_existing))-1\n",
    "    temp = pd.DataFrame([col, gini]).T\n",
    "    gini_df = pd.concat([gini_df, temp], axis=0)"
   ]
  },
  {
   "cell_type": "code",
   "execution_count": 19,
   "metadata": {},
   "outputs": [],
   "source": [
    "gini_df.columns = ['feature', 'gini']"
   ]
  },
  {
   "cell_type": "code",
   "execution_count": 20,
   "metadata": {},
   "outputs": [
    {
     "data": {
      "text/html": [
       "<div>\n",
       "<style scoped>\n",
       "    .dataframe tbody tr th:only-of-type {\n",
       "        vertical-align: middle;\n",
       "    }\n",
       "\n",
       "    .dataframe tbody tr th {\n",
       "        vertical-align: top;\n",
       "    }\n",
       "\n",
       "    .dataframe thead th {\n",
       "        text-align: right;\n",
       "    }\n",
       "</style>\n",
       "<table border=\"1\" class=\"dataframe\">\n",
       "  <thead>\n",
       "    <tr style=\"text-align: right;\">\n",
       "      <th></th>\n",
       "      <th>feature</th>\n",
       "      <th>gini</th>\n",
       "    </tr>\n",
       "  </thead>\n",
       "  <tbody>\n",
       "    <tr>\n",
       "      <th>0</th>\n",
       "      <td>debtinc</td>\n",
       "      <td>0.470506</td>\n",
       "    </tr>\n",
       "    <tr>\n",
       "      <th>0</th>\n",
       "      <td>employ</td>\n",
       "      <td>0.409138</td>\n",
       "    </tr>\n",
       "    <tr>\n",
       "      <th>0</th>\n",
       "      <td>creddebt</td>\n",
       "      <td>0.272378</td>\n",
       "    </tr>\n",
       "    <tr>\n",
       "      <th>0</th>\n",
       "      <td>address</td>\n",
       "      <td>0.222384</td>\n",
       "    </tr>\n",
       "    <tr>\n",
       "      <th>0</th>\n",
       "      <td>age</td>\n",
       "      <td>0.206329</td>\n",
       "    </tr>\n",
       "    <tr>\n",
       "      <th>0</th>\n",
       "      <td>income</td>\n",
       "      <td>0.200273</td>\n",
       "    </tr>\n",
       "    <tr>\n",
       "      <th>0</th>\n",
       "      <td>othdebt</td>\n",
       "      <td>0.173806</td>\n",
       "    </tr>\n",
       "    <tr>\n",
       "      <th>0</th>\n",
       "      <td>ed</td>\n",
       "      <td>0.148302</td>\n",
       "    </tr>\n",
       "  </tbody>\n",
       "</table>\n",
       "</div>"
      ],
      "text/plain": [
       "    feature      gini\n",
       "0   debtinc  0.470506\n",
       "0    employ  0.409138\n",
       "0  creddebt  0.272378\n",
       "0   address  0.222384\n",
       "0       age  0.206329\n",
       "0    income  0.200273\n",
       "0   othdebt  0.173806\n",
       "0        ed  0.148302"
      ]
     },
     "execution_count": 20,
     "metadata": {},
     "output_type": "execute_result"
    }
   ],
   "source": [
    "gini_df.sort_values(by='gini', ascending=False)"
   ]
  },
  {
   "cell_type": "code",
   "execution_count": 21,
   "metadata": {},
   "outputs": [],
   "source": [
    "#RFE\n",
    "from sklearn.feature_selection import RFE\n",
    "from sklearn.linear_model import LogisticRegression\n",
    "from sklearn.ensemble import RandomForestClassifier, RandomForestRegressor\n",
    "X = bankloans_existing[bankloans_existing.columns.difference(['default'])]\n",
    "y = bankloans_existing[['default']]\n",
    "\n",
    "rfe = RFE(RandomForestClassifier(), 5)\n",
    "rfe = rfe.fit(X, y)"
   ]
  },
  {
   "cell_type": "code",
   "execution_count": 22,
   "metadata": {},
   "outputs": [
    {
     "data": {
      "text/plain": [
       "array([False, False,  True,  True, False,  True,  True,  True])"
      ]
     },
     "execution_count": 22,
     "metadata": {},
     "output_type": "execute_result"
    }
   ],
   "source": [
    "rfe.get_support()"
   ]
  },
  {
   "cell_type": "code",
   "execution_count": 23,
   "metadata": {},
   "outputs": [
    {
     "data": {
      "text/plain": [
       "Index(['creddebt', 'debtinc', 'employ', 'income', 'othdebt'], dtype='object')"
      ]
     },
     "execution_count": 23,
     "metadata": {},
     "output_type": "execute_result"
    }
   ],
   "source": [
    "X.columns[rfe.get_support()]"
   ]
  },
  {
   "cell_type": "code",
   "execution_count": 24,
   "metadata": {},
   "outputs": [
    {
     "data": {
      "text/plain": [
       "Index(['address', 'creddebt', 'debtinc', 'employ', 'othdebt'], dtype='object')"
      ]
     },
     "execution_count": 24,
     "metadata": {},
     "output_type": "execute_result"
    }
   ],
   "source": [
    "#SelectKbest\n",
    "from sklearn.feature_selection import SelectKBest, f_classif, f_regression\n",
    "SKB = SelectKBest(f_classif, k=5).fit(X, y )\n",
    "\n",
    "X.columns[SKB.get_support()]"
   ]
  },
  {
   "cell_type": "code",
   "execution_count": 25,
   "metadata": {},
   "outputs": [],
   "source": [
    "Final_list = [\n",
    "#'age',\n",
    "'employ',\n",
    "'address',\n",
    "#'income',\n",
    "'debtinc',\n",
    "'creddebt',\n",
    "'othdebt'\n",
    "]"
   ]
  },
  {
   "cell_type": "code",
   "execution_count": 26,
   "metadata": {},
   "outputs": [],
   "source": [
    "X_new = X[Final_list]"
   ]
  },
  {
   "cell_type": "code",
   "execution_count": 27,
   "metadata": {},
   "outputs": [],
   "source": [
    "### VIF Calculation for variables\n",
    "vif = pd.DataFrame()\n",
    "vif[\"VIF_Factor\"] = [variance_inflation_factor(X_new.values, i) for i in range(X_new.shape[1])]\n",
    "vif[\"features\"] = X_new.columns"
   ]
  },
  {
   "cell_type": "code",
   "execution_count": 28,
   "metadata": {},
   "outputs": [
    {
     "data": {
      "text/html": [
       "<div>\n",
       "<style scoped>\n",
       "    .dataframe tbody tr th:only-of-type {\n",
       "        vertical-align: middle;\n",
       "    }\n",
       "\n",
       "    .dataframe tbody tr th {\n",
       "        vertical-align: top;\n",
       "    }\n",
       "\n",
       "    .dataframe thead th {\n",
       "        text-align: right;\n",
       "    }\n",
       "</style>\n",
       "<table border=\"1\" class=\"dataframe\">\n",
       "  <thead>\n",
       "    <tr style=\"text-align: right;\">\n",
       "      <th></th>\n",
       "      <th>VIF_Factor</th>\n",
       "      <th>features</th>\n",
       "    </tr>\n",
       "  </thead>\n",
       "  <tbody>\n",
       "    <tr>\n",
       "      <th>4</th>\n",
       "      <td>4.436528</td>\n",
       "      <td>othdebt</td>\n",
       "    </tr>\n",
       "    <tr>\n",
       "      <th>2</th>\n",
       "      <td>3.624147</td>\n",
       "      <td>debtinc</td>\n",
       "    </tr>\n",
       "    <tr>\n",
       "      <th>3</th>\n",
       "      <td>3.269440</td>\n",
       "      <td>creddebt</td>\n",
       "    </tr>\n",
       "    <tr>\n",
       "      <th>0</th>\n",
       "      <td>3.073768</td>\n",
       "      <td>employ</td>\n",
       "    </tr>\n",
       "    <tr>\n",
       "      <th>1</th>\n",
       "      <td>2.481654</td>\n",
       "      <td>address</td>\n",
       "    </tr>\n",
       "  </tbody>\n",
       "</table>\n",
       "</div>"
      ],
      "text/plain": [
       "   VIF_Factor  features\n",
       "4    4.436528   othdebt\n",
       "2    3.624147   debtinc\n",
       "3    3.269440  creddebt\n",
       "0    3.073768    employ\n",
       "1    2.481654   address"
      ]
     },
     "execution_count": 28,
     "metadata": {},
     "output_type": "execute_result"
    }
   ],
   "source": [
    "vif.sort_values(by='VIF_Factor',ascending=False)"
   ]
  },
  {
   "cell_type": "code",
   "execution_count": 29,
   "metadata": {},
   "outputs": [],
   "source": [
    "data_final = pd.concat([X_new, y], axis=1)"
   ]
  },
  {
   "cell_type": "code",
   "execution_count": 30,
   "metadata": {},
   "outputs": [],
   "source": [
    "#split the data into train & test\n",
    "train, test = train_test_split(data_final, test_size=0.3, random_state=123)"
   ]
  },
  {
   "cell_type": "code",
   "execution_count": 31,
   "metadata": {},
   "outputs": [
    {
     "name": "stdout",
     "output_type": "stream",
     "text": [
      "Optimization terminated successfully.\n",
      "         Current function value: 0.400953\n",
      "         Iterations 7\n"
     ]
    }
   ],
   "source": [
    "#Final Regression\n",
    "model = smf.logit('default~employ+creddebt+debtinc+address', train).fit()"
   ]
  },
  {
   "cell_type": "code",
   "execution_count": 32,
   "metadata": {},
   "outputs": [
    {
     "name": "stdout",
     "output_type": "stream",
     "text": [
      "                           Logit Regression Results                           \n",
      "==============================================================================\n",
      "Dep. Variable:                default   No. Observations:                  490\n",
      "Model:                          Logit   Df Residuals:                      485\n",
      "Method:                           MLE   Df Model:                            4\n",
      "Date:                Sun, 22 Nov 2020   Pseudo R-squ.:                  0.3118\n",
      "Time:                        16:37:02   Log-Likelihood:                -196.47\n",
      "converged:                       True   LL-Null:                       -285.50\n",
      "Covariance Type:            nonrobust   LLR p-value:                 1.944e-37\n",
      "==============================================================================\n",
      "                 coef    std err          z      P>|z|      [0.025      0.975]\n",
      "------------------------------------------------------------------------------\n",
      "Intercept     -0.8974      0.299     -3.000      0.003      -1.484      -0.311\n",
      "employ        -0.2461      0.033     -7.443      0.000      -0.311      -0.181\n",
      "creddebt       0.6506      0.106      6.146      0.000       0.443       0.858\n",
      "debtinc        0.0870      0.021      4.063      0.000       0.045       0.129\n",
      "address       -0.0724      0.024     -2.995      0.003      -0.120      -0.025\n",
      "==============================================================================\n"
     ]
    }
   ],
   "source": [
    "print(model.summary())"
   ]
  },
  {
   "cell_type": "code",
   "execution_count": 33,
   "metadata": {},
   "outputs": [],
   "source": [
    "#Mathematical Equation\n",
    "# LE = -0.2461*employ + 0.6506 *creddebt + 0.0870*debtinc-0.0724*address-0.8974\n",
    "# P(default=1) = exp(LE)/(1+exp(LE))\n",
    "\n",
    "#Positive drivers: creddebt, debtinc\n",
    "#Negative drivers: address, employ"
   ]
  },
  {
   "cell_type": "code",
   "execution_count": 34,
   "metadata": {},
   "outputs": [
    {
     "data": {
      "text/plain": [
       "0.7125021161334011"
      ]
     },
     "execution_count": 34,
     "metadata": {},
     "output_type": "execute_result"
    }
   ],
   "source": [
    "#Train Data\n",
    "#somerceD = 2*AUC-1 - Train\n",
    "2*metrics.roc_auc_score(train.default, model.predict())-1"
   ]
  },
  {
   "cell_type": "code",
   "execution_count": 35,
   "metadata": {},
   "outputs": [
    {
     "data": {
      "text/plain": [
       "0.8562510580667005"
      ]
     },
     "execution_count": 35,
     "metadata": {},
     "output_type": "execute_result"
    }
   ],
   "source": [
    "metrics.roc_auc_score(train.default, model.predict())"
   ]
  },
  {
   "cell_type": "code",
   "execution_count": 36,
   "metadata": {},
   "outputs": [
    {
     "name": "stdout",
     "output_type": "stream",
     "text": [
      "Test_Gini 0.6806018004686152\n"
     ]
    }
   ],
   "source": [
    "# Test Data\n",
    "print('Test_Gini', 2*metrics.roc_auc_score(test.default, model.predict(test))-1)"
   ]
  },
  {
   "cell_type": "code",
   "execution_count": 37,
   "metadata": {},
   "outputs": [
    {
     "name": "stdout",
     "output_type": "stream",
     "text": [
      "Test_Auc 0.8403009002343076\n"
     ]
    }
   ],
   "source": [
    "print('Test_Auc', metrics.roc_auc_score(test.default, model.predict(test)))"
   ]
  },
  {
   "cell_type": "code",
   "execution_count": 38,
   "metadata": {},
   "outputs": [],
   "source": [
    " train['prob'] = model.predict(train)"
   ]
  },
  {
   "cell_type": "code",
   "execution_count": 39,
   "metadata": {},
   "outputs": [],
   "source": [
    " test['prob'] = model.predict(test)"
   ]
  },
  {
   "cell_type": "raw",
   "metadata": {},
   "source": [
    "# Credit score calculation using probability\n",
    "p(Y=1) = 0.8\n",
    "P(Y=0) = 1-P(Y=1) = 0.2\n",
    "Score = 1000*0.2 = 200  #Min_Score = 0, max_score = 1000 Score = 0 to 1000 scale"
   ]
  },
  {
   "cell_type": "code",
   "execution_count": 40,
   "metadata": {},
   "outputs": [],
   "source": [
    "train['credit_score'] = (1- train.prob)*1000\n",
    "test['credit_score'] = (1- test.prob)*1000"
   ]
  },
  {
   "cell_type": "code",
   "execution_count": 41,
   "metadata": {},
   "outputs": [
    {
     "data": {
      "text/html": [
       "<div>\n",
       "<style scoped>\n",
       "    .dataframe tbody tr th:only-of-type {\n",
       "        vertical-align: middle;\n",
       "    }\n",
       "\n",
       "    .dataframe tbody tr th {\n",
       "        vertical-align: top;\n",
       "    }\n",
       "\n",
       "    .dataframe thead th {\n",
       "        text-align: right;\n",
       "    }\n",
       "</style>\n",
       "<table border=\"1\" class=\"dataframe\">\n",
       "  <thead>\n",
       "    <tr style=\"text-align: right;\">\n",
       "      <th></th>\n",
       "      <th>employ</th>\n",
       "      <th>address</th>\n",
       "      <th>debtinc</th>\n",
       "      <th>creddebt</th>\n",
       "      <th>othdebt</th>\n",
       "      <th>default</th>\n",
       "      <th>prob</th>\n",
       "      <th>credit_score</th>\n",
       "    </tr>\n",
       "  </thead>\n",
       "  <tbody>\n",
       "    <tr>\n",
       "      <th>404</th>\n",
       "      <td>18.0</td>\n",
       "      <td>10.0</td>\n",
       "      <td>15.400</td>\n",
       "      <td>2.099636</td>\n",
       "      <td>3.136364</td>\n",
       "      <td>0.0</td>\n",
       "      <td>0.034050</td>\n",
       "      <td>965.949831</td>\n",
       "    </tr>\n",
       "    <tr>\n",
       "      <th>63</th>\n",
       "      <td>4.0</td>\n",
       "      <td>9.0</td>\n",
       "      <td>7.000</td>\n",
       "      <td>2.159850</td>\n",
       "      <td>1.690150</td>\n",
       "      <td>0.0</td>\n",
       "      <td>0.372982</td>\n",
       "      <td>627.017684</td>\n",
       "    </tr>\n",
       "    <tr>\n",
       "      <th>34</th>\n",
       "      <td>8.0</td>\n",
       "      <td>1.0</td>\n",
       "      <td>2.900</td>\n",
       "      <td>0.077140</td>\n",
       "      <td>0.937860</td>\n",
       "      <td>0.0</td>\n",
       "      <td>0.066860</td>\n",
       "      <td>933.140133</td>\n",
       "    </tr>\n",
       "    <tr>\n",
       "      <th>33</th>\n",
       "      <td>8.0</td>\n",
       "      <td>4.0</td>\n",
       "      <td>14.400</td>\n",
       "      <td>1.018656</td>\n",
       "      <td>2.869344</td>\n",
       "      <td>0.0</td>\n",
       "      <td>0.224398</td>\n",
       "      <td>775.602357</td>\n",
       "    </tr>\n",
       "    <tr>\n",
       "      <th>583</th>\n",
       "      <td>16.0</td>\n",
       "      <td>14.0</td>\n",
       "      <td>30.701</td>\n",
       "      <td>7.320000</td>\n",
       "      <td>10.980000</td>\n",
       "      <td>1.0</td>\n",
       "      <td>0.829851</td>\n",
       "      <td>170.148675</td>\n",
       "    </tr>\n",
       "    <tr>\n",
       "      <th>457</th>\n",
       "      <td>4.0</td>\n",
       "      <td>3.0</td>\n",
       "      <td>17.500</td>\n",
       "      <td>0.225400</td>\n",
       "      <td>2.224600</td>\n",
       "      <td>0.0</td>\n",
       "      <td>0.394158</td>\n",
       "      <td>605.842334</td>\n",
       "    </tr>\n",
       "    <tr>\n",
       "      <th>523</th>\n",
       "      <td>17.0</td>\n",
       "      <td>22.0</td>\n",
       "      <td>3.200</td>\n",
       "      <td>1.467840</td>\n",
       "      <td>0.644160</td>\n",
       "      <td>0.0</td>\n",
       "      <td>0.004317</td>\n",
       "      <td>995.682677</td>\n",
       "    </tr>\n",
       "    <tr>\n",
       "      <th>118</th>\n",
       "      <td>0.0</td>\n",
       "      <td>4.0</td>\n",
       "      <td>12.800</td>\n",
       "      <td>1.088640</td>\n",
       "      <td>2.367360</td>\n",
       "      <td>1.0</td>\n",
       "      <td>0.653554</td>\n",
       "      <td>346.446118</td>\n",
       "    </tr>\n",
       "    <tr>\n",
       "      <th>15</th>\n",
       "      <td>9.0</td>\n",
       "      <td>6.0</td>\n",
       "      <td>8.600</td>\n",
       "      <td>0.817516</td>\n",
       "      <td>3.396484</td>\n",
       "      <td>1.0</td>\n",
       "      <td>0.093926</td>\n",
       "      <td>906.073692</td>\n",
       "    </tr>\n",
       "    <tr>\n",
       "      <th>42</th>\n",
       "      <td>7.0</td>\n",
       "      <td>23.0</td>\n",
       "      <td>4.600</td>\n",
       "      <td>0.941114</td>\n",
       "      <td>0.944886</td>\n",
       "      <td>0.0</td>\n",
       "      <td>0.036496</td>\n",
       "      <td>963.503604</td>\n",
       "    </tr>\n",
       "  </tbody>\n",
       "</table>\n",
       "</div>"
      ],
      "text/plain": [
       "     employ  address  debtinc  creddebt    othdebt  default      prob  \\\n",
       "404    18.0     10.0   15.400  2.099636   3.136364      0.0  0.034050   \n",
       "63      4.0      9.0    7.000  2.159850   1.690150      0.0  0.372982   \n",
       "34      8.0      1.0    2.900  0.077140   0.937860      0.0  0.066860   \n",
       "33      8.0      4.0   14.400  1.018656   2.869344      0.0  0.224398   \n",
       "583    16.0     14.0   30.701  7.320000  10.980000      1.0  0.829851   \n",
       "457     4.0      3.0   17.500  0.225400   2.224600      0.0  0.394158   \n",
       "523    17.0     22.0    3.200  1.467840   0.644160      0.0  0.004317   \n",
       "118     0.0      4.0   12.800  1.088640   2.367360      1.0  0.653554   \n",
       "15      9.0      6.0    8.600  0.817516   3.396484      1.0  0.093926   \n",
       "42      7.0     23.0    4.600  0.941114   0.944886      0.0  0.036496   \n",
       "\n",
       "     credit_score  \n",
       "404    965.949831  \n",
       "63     627.017684  \n",
       "34     933.140133  \n",
       "33     775.602357  \n",
       "583    170.148675  \n",
       "457    605.842334  \n",
       "523    995.682677  \n",
       "118    346.446118  \n",
       "15     906.073692  \n",
       "42     963.503604  "
      ]
     },
     "execution_count": 41,
     "metadata": {},
     "output_type": "execute_result"
    }
   ],
   "source": [
    "train.head(10)"
   ]
  },
  {
   "cell_type": "code",
   "execution_count": 42,
   "metadata": {},
   "outputs": [],
   "source": [
    "#How to get optimal cut-off?\n",
    "#1. %1's in Y   : 0.27\n",
    "#2. Using sensitivity + specicity, 0.2653\n",
    "#3. Decile Analysis"
   ]
  },
  {
   "cell_type": "code",
   "execution_count": 43,
   "metadata": {},
   "outputs": [
    {
     "data": {
      "text/plain": [
       "0.2693877551020408"
      ]
     },
     "execution_count": 43,
     "metadata": {},
     "output_type": "execute_result"
    }
   ],
   "source": [
    "np.mean(train.default)"
   ]
  },
  {
   "cell_type": "code",
   "execution_count": 44,
   "metadata": {},
   "outputs": [],
   "source": [
    "train_new = train\n",
    "train_new['pred'] = np.where(train_new.prob >0.27,1, 0)"
   ]
  },
  {
   "cell_type": "code",
   "execution_count": 45,
   "metadata": {},
   "outputs": [
    {
     "data": {
      "text/html": [
       "<div>\n",
       "<style scoped>\n",
       "    .dataframe tbody tr th:only-of-type {\n",
       "        vertical-align: middle;\n",
       "    }\n",
       "\n",
       "    .dataframe tbody tr th {\n",
       "        vertical-align: top;\n",
       "    }\n",
       "\n",
       "    .dataframe thead th {\n",
       "        text-align: right;\n",
       "    }\n",
       "</style>\n",
       "<table border=\"1\" class=\"dataframe\">\n",
       "  <thead>\n",
       "    <tr style=\"text-align: right;\">\n",
       "      <th></th>\n",
       "      <th>employ</th>\n",
       "      <th>address</th>\n",
       "      <th>debtinc</th>\n",
       "      <th>creddebt</th>\n",
       "      <th>othdebt</th>\n",
       "      <th>default</th>\n",
       "      <th>prob</th>\n",
       "      <th>credit_score</th>\n",
       "      <th>pred</th>\n",
       "    </tr>\n",
       "  </thead>\n",
       "  <tbody>\n",
       "    <tr>\n",
       "      <th>404</th>\n",
       "      <td>18.0</td>\n",
       "      <td>10.0</td>\n",
       "      <td>15.400</td>\n",
       "      <td>2.099636</td>\n",
       "      <td>3.136364</td>\n",
       "      <td>0.0</td>\n",
       "      <td>0.034050</td>\n",
       "      <td>965.949831</td>\n",
       "      <td>0</td>\n",
       "    </tr>\n",
       "    <tr>\n",
       "      <th>63</th>\n",
       "      <td>4.0</td>\n",
       "      <td>9.0</td>\n",
       "      <td>7.000</td>\n",
       "      <td>2.159850</td>\n",
       "      <td>1.690150</td>\n",
       "      <td>0.0</td>\n",
       "      <td>0.372982</td>\n",
       "      <td>627.017684</td>\n",
       "      <td>1</td>\n",
       "    </tr>\n",
       "    <tr>\n",
       "      <th>34</th>\n",
       "      <td>8.0</td>\n",
       "      <td>1.0</td>\n",
       "      <td>2.900</td>\n",
       "      <td>0.077140</td>\n",
       "      <td>0.937860</td>\n",
       "      <td>0.0</td>\n",
       "      <td>0.066860</td>\n",
       "      <td>933.140133</td>\n",
       "      <td>0</td>\n",
       "    </tr>\n",
       "    <tr>\n",
       "      <th>33</th>\n",
       "      <td>8.0</td>\n",
       "      <td>4.0</td>\n",
       "      <td>14.400</td>\n",
       "      <td>1.018656</td>\n",
       "      <td>2.869344</td>\n",
       "      <td>0.0</td>\n",
       "      <td>0.224398</td>\n",
       "      <td>775.602357</td>\n",
       "      <td>0</td>\n",
       "    </tr>\n",
       "    <tr>\n",
       "      <th>583</th>\n",
       "      <td>16.0</td>\n",
       "      <td>14.0</td>\n",
       "      <td>30.701</td>\n",
       "      <td>7.320000</td>\n",
       "      <td>10.980000</td>\n",
       "      <td>1.0</td>\n",
       "      <td>0.829851</td>\n",
       "      <td>170.148675</td>\n",
       "      <td>1</td>\n",
       "    </tr>\n",
       "  </tbody>\n",
       "</table>\n",
       "</div>"
      ],
      "text/plain": [
       "     employ  address  debtinc  creddebt    othdebt  default      prob  \\\n",
       "404    18.0     10.0   15.400  2.099636   3.136364      0.0  0.034050   \n",
       "63      4.0      9.0    7.000  2.159850   1.690150      0.0  0.372982   \n",
       "34      8.0      1.0    2.900  0.077140   0.937860      0.0  0.066860   \n",
       "33      8.0      4.0   14.400  1.018656   2.869344      0.0  0.224398   \n",
       "583    16.0     14.0   30.701  7.320000  10.980000      1.0  0.829851   \n",
       "\n",
       "     credit_score  pred  \n",
       "404    965.949831     0  \n",
       "63     627.017684     1  \n",
       "34     933.140133     0  \n",
       "33     775.602357     0  \n",
       "583    170.148675     1  "
      ]
     },
     "execution_count": 45,
     "metadata": {},
     "output_type": "execute_result"
    }
   ],
   "source": [
    "train_new.head()"
   ]
  },
  {
   "cell_type": "code",
   "execution_count": 46,
   "metadata": {},
   "outputs": [
    {
     "data": {
      "text/plain": [
       "array([[274,  84],\n",
       "       [ 27, 105]], dtype=int64)"
      ]
     },
     "execution_count": 46,
     "metadata": {},
     "output_type": "execute_result"
    }
   ],
   "source": [
    "metrics.confusion_matrix(train_new.default, train_new.pred)"
   ]
  },
  {
   "cell_type": "code",
   "execution_count": 47,
   "metadata": {},
   "outputs": [
    {
     "name": "stdout",
     "output_type": "stream",
     "text": [
      "              precision    recall  f1-score   support\n",
      "\n",
      "         0.0       0.91      0.77      0.83       358\n",
      "         1.0       0.56      0.80      0.65       132\n",
      "\n",
      "    accuracy                           0.77       490\n",
      "   macro avg       0.73      0.78      0.74       490\n",
      "weighted avg       0.81      0.77      0.78       490\n",
      "\n"
     ]
    }
   ],
   "source": [
    "print(metrics.classification_report(train_new.default, train_new.pred))"
   ]
  },
  {
   "cell_type": "code",
   "execution_count": 48,
   "metadata": {},
   "outputs": [
    {
     "name": "stdout",
     "output_type": "stream",
     "text": [
      "              precision    recall  f1-score   support\n",
      "\n",
      "         0.0       0.91      0.77      0.84       159\n",
      "         1.0       0.52      0.76      0.62        51\n",
      "\n",
      "    accuracy                           0.77       210\n",
      "   macro avg       0.72      0.77      0.73       210\n",
      "weighted avg       0.82      0.77      0.78       210\n",
      "\n"
     ]
    }
   ],
   "source": [
    "test_new = test\n",
    "test_new['pred'] = np.where(test_new.prob >0.27,1, 0)\n",
    "print(metrics.classification_report(test_new.default, test_new.pred))"
   ]
  },
  {
   "cell_type": "code",
   "execution_count": 49,
   "metadata": {},
   "outputs": [
    {
     "name": "stdout",
     "output_type": "stream",
     "text": [
      "Sensitivity 0.8106060606060606\n",
      "Specicity 0.7374301675977654\n",
      "Total 1.5480362282038258\n"
     ]
    }
   ],
   "source": [
    "train_new = train\n",
    "train_new['pred'] = np.where(train_new.prob >0.25,1, 0)\n",
    "\n",
    "TP = np.where((train_new.default == 1) & (train_new.pred==1), 1,0 )\n",
    "TN = np.where((train_new.default == 0) & (train_new.pred==0), 1,0 )\n",
    "FP = np.where((train_new.default == 0) & (train_new.pred==1), 1,0 )\n",
    "FN = np.where((train_new.default == 1) & (train_new.pred==0), 1,0 )\n",
    "\n",
    "actual_1 = (TP.sum()+FN.sum())\n",
    "actual_0 = (TN.sum()+FP.sum())\n",
    "print('Sensitivity', TP.sum()/actual_1)\n",
    "print('Specicity', TN.sum()/actual_0)\n",
    "print('Total', (TP.sum()/actual_1) + (TN.sum()/actual_0))"
   ]
  },
  {
   "cell_type": "code",
   "execution_count": 50,
   "metadata": {},
   "outputs": [
    {
     "data": {
      "text/plain": [
       "array([0.        , 0.02040816, 0.04081633, 0.06122449, 0.08163265,\n",
       "       0.10204082, 0.12244898, 0.14285714, 0.16326531, 0.18367347,\n",
       "       0.20408163, 0.2244898 , 0.24489796, 0.26530612, 0.28571429,\n",
       "       0.30612245, 0.32653061, 0.34693878, 0.36734694, 0.3877551 ,\n",
       "       0.40816327, 0.42857143, 0.44897959, 0.46938776, 0.48979592,\n",
       "       0.51020408, 0.53061224, 0.55102041, 0.57142857, 0.59183673,\n",
       "       0.6122449 , 0.63265306, 0.65306122, 0.67346939, 0.69387755,\n",
       "       0.71428571, 0.73469388, 0.75510204, 0.7755102 , 0.79591837,\n",
       "       0.81632653, 0.83673469, 0.85714286, 0.87755102, 0.89795918,\n",
       "       0.91836735, 0.93877551, 0.95918367, 0.97959184, 1.        ])"
      ]
     },
     "execution_count": 50,
     "metadata": {},
     "output_type": "execute_result"
    }
   ],
   "source": [
    "np.linspace(0,1,50)"
   ]
  },
  {
   "cell_type": "code",
   "execution_count": 51,
   "metadata": {},
   "outputs": [],
   "source": [
    "roc_df = pd.DataFrame()\n",
    "for cutoff in np.linspace(0,1,50):\n",
    "    train_new['pred'] = np.where(train_new.prob >cutoff,1, 0)\n",
    "\n",
    "    TP = np.where((train_new.default == 1) & (train_new.pred==1), 1,0 )\n",
    "    TN = np.where((train_new.default == 0) & (train_new.pred==0), 1,0 )\n",
    "    FP = np.where((train_new.default == 0) & (train_new.pred==1), 1,0 )\n",
    "    FN = np.where((train_new.default == 1) & (train_new.pred==0), 1,0 )\n",
    "\n",
    "    actual_1 = (TP.sum()+FN.sum())\n",
    "    actual_0 = (TN.sum()+FP.sum())\n",
    "    \n",
    "    Sensitivity = TP.sum()/actual_1\n",
    "    Specicity = TN.sum()/actual_0\n",
    "    Total = (TP.sum()/actual_1) + (TN.sum()/actual_0)\n",
    "    temp_df = pd.DataFrame([cutoff, Sensitivity, Specicity, Total]).T\n",
    "    roc_df = pd.concat([roc_df, temp_df], axis=0)\n",
    "    #print('Sensitivity', TP.sum()/actual_1)\n",
    "    #print('Specicity', TN.sum()/actual_0)\n",
    "    #print('Total', (TP.sum()/actual_1) + (TN.sum()/actual_0))\n",
    "    #print('--------------------------------------------------')\n",
    "    "
   ]
  },
  {
   "cell_type": "code",
   "execution_count": 52,
   "metadata": {},
   "outputs": [],
   "source": [
    "roc_df.columns = ['cutoff', 'Sensitivity', 'Specicity', 'Total']"
   ]
  },
  {
   "cell_type": "code",
   "execution_count": 53,
   "metadata": {},
   "outputs": [
    {
     "data": {
      "text/html": [
       "<div>\n",
       "<style scoped>\n",
       "    .dataframe tbody tr th:only-of-type {\n",
       "        vertical-align: middle;\n",
       "    }\n",
       "\n",
       "    .dataframe tbody tr th {\n",
       "        vertical-align: top;\n",
       "    }\n",
       "\n",
       "    .dataframe thead th {\n",
       "        text-align: right;\n",
       "    }\n",
       "</style>\n",
       "<table border=\"1\" class=\"dataframe\">\n",
       "  <thead>\n",
       "    <tr style=\"text-align: right;\">\n",
       "      <th></th>\n",
       "      <th>cutoff</th>\n",
       "      <th>Sensitivity</th>\n",
       "      <th>Specicity</th>\n",
       "      <th>Total</th>\n",
       "    </tr>\n",
       "  </thead>\n",
       "  <tbody>\n",
       "    <tr>\n",
       "      <th>0</th>\n",
       "      <td>0.265306</td>\n",
       "      <td>0.795455</td>\n",
       "      <td>0.756983</td>\n",
       "      <td>1.552438</td>\n",
       "    </tr>\n",
       "  </tbody>\n",
       "</table>\n",
       "</div>"
      ],
      "text/plain": [
       "     cutoff  Sensitivity  Specicity     Total\n",
       "0  0.265306     0.795455   0.756983  1.552438"
      ]
     },
     "execution_count": 53,
     "metadata": {},
     "output_type": "execute_result"
    }
   ],
   "source": [
    "roc_df.sort_values(by='Total', ascending=False).head(1)"
   ]
  },
  {
   "cell_type": "code",
   "execution_count": 54,
   "metadata": {},
   "outputs": [
    {
     "name": "stdout",
     "output_type": "stream",
     "text": [
      "optimal_cutoff: 0    0.265306\n",
      "Name: cutoff, dtype: float64\n"
     ]
    }
   ],
   "source": [
    "#roc_df.sort_values(by='Total', ascending=False)\n",
    "optimal_cutoff = roc_df[roc_df.Total == roc_df.Total.max()].cutoff\n",
    "print('optimal_cutoff:', optimal_cutoff)"
   ]
  },
  {
   "cell_type": "code",
   "execution_count": 55,
   "metadata": {},
   "outputs": [],
   "source": [
    "train['pred'] = np.where(train.prob >0.265306,1, 0)\n",
    "test['pred'] = np.where(test.prob >0.265306,1, 0)"
   ]
  },
  {
   "cell_type": "code",
   "execution_count": 56,
   "metadata": {},
   "outputs": [
    {
     "data": {
      "text/plain": [
       "array([[271,  87],\n",
       "       [ 27, 105]], dtype=int64)"
      ]
     },
     "execution_count": 56,
     "metadata": {},
     "output_type": "execute_result"
    }
   ],
   "source": [
    "#Train\n",
    "metrics.confusion_matrix(train.default, train.pred)"
   ]
  },
  {
   "cell_type": "code",
   "execution_count": 57,
   "metadata": {},
   "outputs": [
    {
     "name": "stdout",
     "output_type": "stream",
     "text": [
      "              precision    recall  f1-score   support\n",
      "\n",
      "         0.0       0.91      0.76      0.83       358\n",
      "         1.0       0.55      0.80      0.65       132\n",
      "\n",
      "    accuracy                           0.77       490\n",
      "   macro avg       0.73      0.78      0.74       490\n",
      "weighted avg       0.81      0.77      0.78       490\n",
      "\n"
     ]
    }
   ],
   "source": [
    "#Train\n",
    "print(metrics.classification_report(train_new.default, train_new.pred))"
   ]
  },
  {
   "cell_type": "code",
   "execution_count": 58,
   "metadata": {},
   "outputs": [
    {
     "data": {
      "text/plain": [
       "array([[122,  37],\n",
       "       [ 12,  39]], dtype=int64)"
      ]
     },
     "execution_count": 58,
     "metadata": {},
     "output_type": "execute_result"
    }
   ],
   "source": [
    "#Test\n",
    "metrics.confusion_matrix(test.default, test.pred)"
   ]
  },
  {
   "cell_type": "code",
   "execution_count": 59,
   "metadata": {},
   "outputs": [
    {
     "name": "stdout",
     "output_type": "stream",
     "text": [
      "              precision    recall  f1-score   support\n",
      "\n",
      "         0.0       0.91      0.77      0.83       159\n",
      "         1.0       0.51      0.76      0.61        51\n",
      "\n",
      "    accuracy                           0.77       210\n",
      "   macro avg       0.71      0.77      0.72       210\n",
      "weighted avg       0.81      0.77      0.78       210\n",
      "\n"
     ]
    }
   ],
   "source": [
    "print(metrics.classification_report(test.default, test.pred))"
   ]
  },
  {
   "cell_type": "code",
   "execution_count": 60,
   "metadata": {},
   "outputs": [
    {
     "data": {
      "text/html": [
       "<div>\n",
       "<style scoped>\n",
       "    .dataframe tbody tr th:only-of-type {\n",
       "        vertical-align: middle;\n",
       "    }\n",
       "\n",
       "    .dataframe tbody tr th {\n",
       "        vertical-align: top;\n",
       "    }\n",
       "\n",
       "    .dataframe thead th {\n",
       "        text-align: right;\n",
       "    }\n",
       "</style>\n",
       "<table border=\"1\" class=\"dataframe\">\n",
       "  <thead>\n",
       "    <tr style=\"text-align: right;\">\n",
       "      <th></th>\n",
       "      <th>age</th>\n",
       "      <th>ed</th>\n",
       "      <th>employ</th>\n",
       "      <th>address</th>\n",
       "      <th>income</th>\n",
       "      <th>debtinc</th>\n",
       "      <th>creddebt</th>\n",
       "      <th>othdebt</th>\n",
       "      <th>default</th>\n",
       "    </tr>\n",
       "  </thead>\n",
       "  <tbody>\n",
       "    <tr>\n",
       "      <th>700</th>\n",
       "      <td>36</td>\n",
       "      <td>1</td>\n",
       "      <td>16</td>\n",
       "      <td>13</td>\n",
       "      <td>32</td>\n",
       "      <td>10.9</td>\n",
       "      <td>0.544128</td>\n",
       "      <td>2.943872</td>\n",
       "      <td>NaN</td>\n",
       "    </tr>\n",
       "    <tr>\n",
       "      <th>701</th>\n",
       "      <td>50</td>\n",
       "      <td>1</td>\n",
       "      <td>6</td>\n",
       "      <td>27</td>\n",
       "      <td>21</td>\n",
       "      <td>12.9</td>\n",
       "      <td>1.316574</td>\n",
       "      <td>1.392426</td>\n",
       "      <td>NaN</td>\n",
       "    </tr>\n",
       "    <tr>\n",
       "      <th>702</th>\n",
       "      <td>40</td>\n",
       "      <td>1</td>\n",
       "      <td>9</td>\n",
       "      <td>9</td>\n",
       "      <td>33</td>\n",
       "      <td>17.0</td>\n",
       "      <td>4.880700</td>\n",
       "      <td>0.729300</td>\n",
       "      <td>NaN</td>\n",
       "    </tr>\n",
       "    <tr>\n",
       "      <th>703</th>\n",
       "      <td>31</td>\n",
       "      <td>1</td>\n",
       "      <td>5</td>\n",
       "      <td>7</td>\n",
       "      <td>23</td>\n",
       "      <td>2.0</td>\n",
       "      <td>0.046000</td>\n",
       "      <td>0.414000</td>\n",
       "      <td>NaN</td>\n",
       "    </tr>\n",
       "    <tr>\n",
       "      <th>704</th>\n",
       "      <td>29</td>\n",
       "      <td>1</td>\n",
       "      <td>4</td>\n",
       "      <td>0</td>\n",
       "      <td>24</td>\n",
       "      <td>7.8</td>\n",
       "      <td>0.866736</td>\n",
       "      <td>1.005264</td>\n",
       "      <td>NaN</td>\n",
       "    </tr>\n",
       "    <tr>\n",
       "      <th>...</th>\n",
       "      <td>...</td>\n",
       "      <td>...</td>\n",
       "      <td>...</td>\n",
       "      <td>...</td>\n",
       "      <td>...</td>\n",
       "      <td>...</td>\n",
       "      <td>...</td>\n",
       "      <td>...</td>\n",
       "      <td>...</td>\n",
       "    </tr>\n",
       "    <tr>\n",
       "      <th>845</th>\n",
       "      <td>34</td>\n",
       "      <td>1</td>\n",
       "      <td>12</td>\n",
       "      <td>15</td>\n",
       "      <td>32</td>\n",
       "      <td>2.7</td>\n",
       "      <td>0.239328</td>\n",
       "      <td>0.624672</td>\n",
       "      <td>NaN</td>\n",
       "    </tr>\n",
       "    <tr>\n",
       "      <th>846</th>\n",
       "      <td>32</td>\n",
       "      <td>2</td>\n",
       "      <td>12</td>\n",
       "      <td>11</td>\n",
       "      <td>116</td>\n",
       "      <td>5.7</td>\n",
       "      <td>4.026708</td>\n",
       "      <td>2.585292</td>\n",
       "      <td>NaN</td>\n",
       "    </tr>\n",
       "    <tr>\n",
       "      <th>847</th>\n",
       "      <td>48</td>\n",
       "      <td>1</td>\n",
       "      <td>13</td>\n",
       "      <td>11</td>\n",
       "      <td>38</td>\n",
       "      <td>10.8</td>\n",
       "      <td>0.722304</td>\n",
       "      <td>3.381696</td>\n",
       "      <td>NaN</td>\n",
       "    </tr>\n",
       "    <tr>\n",
       "      <th>848</th>\n",
       "      <td>35</td>\n",
       "      <td>2</td>\n",
       "      <td>1</td>\n",
       "      <td>11</td>\n",
       "      <td>24</td>\n",
       "      <td>7.8</td>\n",
       "      <td>0.417456</td>\n",
       "      <td>1.454544</td>\n",
       "      <td>NaN</td>\n",
       "    </tr>\n",
       "    <tr>\n",
       "      <th>849</th>\n",
       "      <td>37</td>\n",
       "      <td>1</td>\n",
       "      <td>20</td>\n",
       "      <td>13</td>\n",
       "      <td>41</td>\n",
       "      <td>12.9</td>\n",
       "      <td>0.899130</td>\n",
       "      <td>4.389870</td>\n",
       "      <td>NaN</td>\n",
       "    </tr>\n",
       "  </tbody>\n",
       "</table>\n",
       "<p>150 rows × 9 columns</p>\n",
       "</div>"
      ],
      "text/plain": [
       "     age  ed  employ  address  income  debtinc  creddebt   othdebt  default\n",
       "700   36   1      16       13      32     10.9  0.544128  2.943872      NaN\n",
       "701   50   1       6       27      21     12.9  1.316574  1.392426      NaN\n",
       "702   40   1       9        9      33     17.0  4.880700  0.729300      NaN\n",
       "703   31   1       5        7      23      2.0  0.046000  0.414000      NaN\n",
       "704   29   1       4        0      24      7.8  0.866736  1.005264      NaN\n",
       "..   ...  ..     ...      ...     ...      ...       ...       ...      ...\n",
       "845   34   1      12       15      32      2.7  0.239328  0.624672      NaN\n",
       "846   32   2      12       11     116      5.7  4.026708  2.585292      NaN\n",
       "847   48   1      13       11      38     10.8  0.722304  3.381696      NaN\n",
       "848   35   2       1       11      24      7.8  0.417456  1.454544      NaN\n",
       "849   37   1      20       13      41     12.9  0.899130  4.389870      NaN\n",
       "\n",
       "[150 rows x 9 columns]"
      ]
     },
     "execution_count": 60,
     "metadata": {},
     "output_type": "execute_result"
    }
   ],
   "source": [
    "bankloans_new"
   ]
  },
  {
   "cell_type": "code",
   "execution_count": 61,
   "metadata": {},
   "outputs": [
    {
     "name": "stdout",
     "output_type": "stream",
     "text": [
      "credit_score_optimal_cutoff 735\n",
      "prob_optimal_cutoff 0.265306\n"
     ]
    }
   ],
   "source": [
    "bankloans_new['prob'] =model.predict(bankloans_new)\n",
    "bankloans_new['credit_score'] =(1-model.predict(bankloans_new))*1000\n",
    "bankloans_new['pred'] = np.where(bankloans_new.prob>0.265306,1, 0)\n",
    "print('credit_score_optimal_cutoff', round((1- 0.265306)*1000)) #if creditscore<735, then customer is bad\n",
    "print('prob_optimal_cutoff', 0.265306)   #if prob>0.26530, then customer is bad"
   ]
  },
  {
   "cell_type": "code",
   "execution_count": 62,
   "metadata": {},
   "outputs": [
    {
     "data": {
      "text/html": [
       "<div>\n",
       "<style scoped>\n",
       "    .dataframe tbody tr th:only-of-type {\n",
       "        vertical-align: middle;\n",
       "    }\n",
       "\n",
       "    .dataframe tbody tr th {\n",
       "        vertical-align: top;\n",
       "    }\n",
       "\n",
       "    .dataframe thead th {\n",
       "        text-align: right;\n",
       "    }\n",
       "</style>\n",
       "<table border=\"1\" class=\"dataframe\">\n",
       "  <thead>\n",
       "    <tr style=\"text-align: right;\">\n",
       "      <th></th>\n",
       "      <th>age</th>\n",
       "      <th>ed</th>\n",
       "      <th>employ</th>\n",
       "      <th>address</th>\n",
       "      <th>income</th>\n",
       "      <th>debtinc</th>\n",
       "      <th>creddebt</th>\n",
       "      <th>othdebt</th>\n",
       "      <th>default</th>\n",
       "      <th>prob</th>\n",
       "      <th>credit_score</th>\n",
       "      <th>pred</th>\n",
       "    </tr>\n",
       "  </thead>\n",
       "  <tbody>\n",
       "    <tr>\n",
       "      <th>700</th>\n",
       "      <td>36</td>\n",
       "      <td>1</td>\n",
       "      <td>16</td>\n",
       "      <td>13</td>\n",
       "      <td>32</td>\n",
       "      <td>10.9</td>\n",
       "      <td>0.544128</td>\n",
       "      <td>2.943872</td>\n",
       "      <td>NaN</td>\n",
       "      <td>0.011274</td>\n",
       "      <td>988.725731</td>\n",
       "      <td>0</td>\n",
       "    </tr>\n",
       "    <tr>\n",
       "      <th>701</th>\n",
       "      <td>50</td>\n",
       "      <td>1</td>\n",
       "      <td>6</td>\n",
       "      <td>27</td>\n",
       "      <td>21</td>\n",
       "      <td>12.9</td>\n",
       "      <td>1.316574</td>\n",
       "      <td>1.392426</td>\n",
       "      <td>NaN</td>\n",
       "      <td>0.087015</td>\n",
       "      <td>912.985451</td>\n",
       "      <td>0</td>\n",
       "    </tr>\n",
       "    <tr>\n",
       "      <th>702</th>\n",
       "      <td>40</td>\n",
       "      <td>1</td>\n",
       "      <td>9</td>\n",
       "      <td>9</td>\n",
       "      <td>33</td>\n",
       "      <td>17.0</td>\n",
       "      <td>4.880700</td>\n",
       "      <td>0.729300</td>\n",
       "      <td>NaN</td>\n",
       "      <td>0.708953</td>\n",
       "      <td>291.046934</td>\n",
       "      <td>1</td>\n",
       "    </tr>\n",
       "    <tr>\n",
       "      <th>703</th>\n",
       "      <td>31</td>\n",
       "      <td>1</td>\n",
       "      <td>5</td>\n",
       "      <td>7</td>\n",
       "      <td>23</td>\n",
       "      <td>2.0</td>\n",
       "      <td>0.046000</td>\n",
       "      <td>0.414000</td>\n",
       "      <td>NaN</td>\n",
       "      <td>0.080848</td>\n",
       "      <td>919.151555</td>\n",
       "      <td>0</td>\n",
       "    </tr>\n",
       "    <tr>\n",
       "      <th>704</th>\n",
       "      <td>29</td>\n",
       "      <td>1</td>\n",
       "      <td>4</td>\n",
       "      <td>0</td>\n",
       "      <td>24</td>\n",
       "      <td>7.8</td>\n",
       "      <td>0.866736</td>\n",
       "      <td>1.005264</td>\n",
       "      <td>NaN</td>\n",
       "      <td>0.345418</td>\n",
       "      <td>654.581963</td>\n",
       "      <td>1</td>\n",
       "    </tr>\n",
       "    <tr>\n",
       "      <th>...</th>\n",
       "      <td>...</td>\n",
       "      <td>...</td>\n",
       "      <td>...</td>\n",
       "      <td>...</td>\n",
       "      <td>...</td>\n",
       "      <td>...</td>\n",
       "      <td>...</td>\n",
       "      <td>...</td>\n",
       "      <td>...</td>\n",
       "      <td>...</td>\n",
       "      <td>...</td>\n",
       "      <td>...</td>\n",
       "    </tr>\n",
       "    <tr>\n",
       "      <th>845</th>\n",
       "      <td>34</td>\n",
       "      <td>1</td>\n",
       "      <td>12</td>\n",
       "      <td>15</td>\n",
       "      <td>32</td>\n",
       "      <td>2.7</td>\n",
       "      <td>0.239328</td>\n",
       "      <td>0.624672</td>\n",
       "      <td>NaN</td>\n",
       "      <td>0.010497</td>\n",
       "      <td>989.503430</td>\n",
       "      <td>0</td>\n",
       "    </tr>\n",
       "    <tr>\n",
       "      <th>846</th>\n",
       "      <td>32</td>\n",
       "      <td>2</td>\n",
       "      <td>12</td>\n",
       "      <td>11</td>\n",
       "      <td>116</td>\n",
       "      <td>5.7</td>\n",
       "      <td>4.026708</td>\n",
       "      <td>2.585292</td>\n",
       "      <td>NaN</td>\n",
       "      <td>0.177780</td>\n",
       "      <td>822.219962</td>\n",
       "      <td>0</td>\n",
       "    </tr>\n",
       "    <tr>\n",
       "      <th>847</th>\n",
       "      <td>48</td>\n",
       "      <td>1</td>\n",
       "      <td>13</td>\n",
       "      <td>11</td>\n",
       "      <td>38</td>\n",
       "      <td>10.8</td>\n",
       "      <td>0.722304</td>\n",
       "      <td>3.381696</td>\n",
       "      <td>NaN</td>\n",
       "      <td>0.029783</td>\n",
       "      <td>970.217423</td>\n",
       "      <td>0</td>\n",
       "    </tr>\n",
       "    <tr>\n",
       "      <th>848</th>\n",
       "      <td>35</td>\n",
       "      <td>2</td>\n",
       "      <td>1</td>\n",
       "      <td>11</td>\n",
       "      <td>24</td>\n",
       "      <td>7.8</td>\n",
       "      <td>0.417456</td>\n",
       "      <td>1.454544</td>\n",
       "      <td>NaN</td>\n",
       "      <td>0.270904</td>\n",
       "      <td>729.095988</td>\n",
       "      <td>1</td>\n",
       "    </tr>\n",
       "    <tr>\n",
       "      <th>849</th>\n",
       "      <td>37</td>\n",
       "      <td>1</td>\n",
       "      <td>20</td>\n",
       "      <td>13</td>\n",
       "      <td>41</td>\n",
       "      <td>12.9</td>\n",
       "      <td>0.899130</td>\n",
       "      <td>4.389870</td>\n",
       "      <td>NaN</td>\n",
       "      <td>0.006348</td>\n",
       "      <td>993.651908</td>\n",
       "      <td>0</td>\n",
       "    </tr>\n",
       "  </tbody>\n",
       "</table>\n",
       "<p>150 rows × 12 columns</p>\n",
       "</div>"
      ],
      "text/plain": [
       "     age  ed  employ  address  income  debtinc  creddebt   othdebt  default  \\\n",
       "700   36   1      16       13      32     10.9  0.544128  2.943872      NaN   \n",
       "701   50   1       6       27      21     12.9  1.316574  1.392426      NaN   \n",
       "702   40   1       9        9      33     17.0  4.880700  0.729300      NaN   \n",
       "703   31   1       5        7      23      2.0  0.046000  0.414000      NaN   \n",
       "704   29   1       4        0      24      7.8  0.866736  1.005264      NaN   \n",
       "..   ...  ..     ...      ...     ...      ...       ...       ...      ...   \n",
       "845   34   1      12       15      32      2.7  0.239328  0.624672      NaN   \n",
       "846   32   2      12       11     116      5.7  4.026708  2.585292      NaN   \n",
       "847   48   1      13       11      38     10.8  0.722304  3.381696      NaN   \n",
       "848   35   2       1       11      24      7.8  0.417456  1.454544      NaN   \n",
       "849   37   1      20       13      41     12.9  0.899130  4.389870      NaN   \n",
       "\n",
       "         prob  credit_score  pred  \n",
       "700  0.011274    988.725731     0  \n",
       "701  0.087015    912.985451     0  \n",
       "702  0.708953    291.046934     1  \n",
       "703  0.080848    919.151555     0  \n",
       "704  0.345418    654.581963     1  \n",
       "..        ...           ...   ...  \n",
       "845  0.010497    989.503430     0  \n",
       "846  0.177780    822.219962     0  \n",
       "847  0.029783    970.217423     0  \n",
       "848  0.270904    729.095988     1  \n",
       "849  0.006348    993.651908     0  \n",
       "\n",
       "[150 rows x 12 columns]"
      ]
     },
     "execution_count": 62,
     "metadata": {},
     "output_type": "execute_result"
    }
   ],
   "source": [
    "bankloans_new"
   ]
  },
  {
   "cell_type": "code",
   "execution_count": 63,
   "metadata": {},
   "outputs": [
    {
     "data": {
      "text/plain": [
       "0    95\n",
       "1    55\n",
       "Name: pred, dtype: int64"
      ]
     },
     "execution_count": 63,
     "metadata": {},
     "output_type": "execute_result"
    }
   ],
   "source": [
    "bankloans_new.pred.value_counts()"
   ]
  },
  {
   "cell_type": "code",
   "execution_count": 64,
   "metadata": {},
   "outputs": [],
   "source": [
    "import pickle"
   ]
  },
  {
   "cell_type": "code",
   "execution_count": 65,
   "metadata": {},
   "outputs": [],
   "source": [
    "# now you can save it to a file\n",
    "with open('model_08Nov.pkl', 'wb') as f:\n",
    "    pickle.dump(model, f)"
   ]
  },
  {
   "cell_type": "code",
   "execution_count": 66,
   "metadata": {},
   "outputs": [],
   "source": [
    "# and later you can load it\n",
    "#with open('model_08Nov.pkl', 'rb') as f:\n",
    "#    model1 = pickle.load(f)"
   ]
  },
  {
   "cell_type": "code",
   "execution_count": 67,
   "metadata": {},
   "outputs": [],
   "source": [
    "#Decile Analysis for train data\n",
    "#Decile Analysis\n",
    "train['Deciles']=pd.qcut(train['prob'],10, labels=False)\n",
    "test['Deciles']=pd.qcut(test['prob'],10, labels=False)"
   ]
  },
  {
   "cell_type": "code",
   "execution_count": 68,
   "metadata": {},
   "outputs": [
    {
     "data": {
      "text/html": [
       "<div>\n",
       "<style scoped>\n",
       "    .dataframe tbody tr th:only-of-type {\n",
       "        vertical-align: middle;\n",
       "    }\n",
       "\n",
       "    .dataframe tbody tr th {\n",
       "        vertical-align: top;\n",
       "    }\n",
       "\n",
       "    .dataframe thead th {\n",
       "        text-align: right;\n",
       "    }\n",
       "</style>\n",
       "<table border=\"1\" class=\"dataframe\">\n",
       "  <thead>\n",
       "    <tr style=\"text-align: right;\">\n",
       "      <th></th>\n",
       "      <th>employ</th>\n",
       "      <th>address</th>\n",
       "      <th>debtinc</th>\n",
       "      <th>creddebt</th>\n",
       "      <th>othdebt</th>\n",
       "      <th>default</th>\n",
       "      <th>prob</th>\n",
       "      <th>credit_score</th>\n",
       "      <th>pred</th>\n",
       "      <th>Deciles</th>\n",
       "    </tr>\n",
       "  </thead>\n",
       "  <tbody>\n",
       "    <tr>\n",
       "      <th>404</th>\n",
       "      <td>18.0</td>\n",
       "      <td>10.0</td>\n",
       "      <td>15.400</td>\n",
       "      <td>2.099636</td>\n",
       "      <td>3.136364</td>\n",
       "      <td>0.0</td>\n",
       "      <td>0.034050</td>\n",
       "      <td>965.949831</td>\n",
       "      <td>0</td>\n",
       "      <td>1</td>\n",
       "    </tr>\n",
       "    <tr>\n",
       "      <th>63</th>\n",
       "      <td>4.0</td>\n",
       "      <td>9.0</td>\n",
       "      <td>7.000</td>\n",
       "      <td>2.159850</td>\n",
       "      <td>1.690150</td>\n",
       "      <td>0.0</td>\n",
       "      <td>0.372982</td>\n",
       "      <td>627.017684</td>\n",
       "      <td>1</td>\n",
       "      <td>7</td>\n",
       "    </tr>\n",
       "    <tr>\n",
       "      <th>34</th>\n",
       "      <td>8.0</td>\n",
       "      <td>1.0</td>\n",
       "      <td>2.900</td>\n",
       "      <td>0.077140</td>\n",
       "      <td>0.937860</td>\n",
       "      <td>0.0</td>\n",
       "      <td>0.066860</td>\n",
       "      <td>933.140133</td>\n",
       "      <td>0</td>\n",
       "      <td>2</td>\n",
       "    </tr>\n",
       "    <tr>\n",
       "      <th>33</th>\n",
       "      <td>8.0</td>\n",
       "      <td>4.0</td>\n",
       "      <td>14.400</td>\n",
       "      <td>1.018656</td>\n",
       "      <td>2.869344</td>\n",
       "      <td>0.0</td>\n",
       "      <td>0.224398</td>\n",
       "      <td>775.602357</td>\n",
       "      <td>0</td>\n",
       "      <td>5</td>\n",
       "    </tr>\n",
       "    <tr>\n",
       "      <th>583</th>\n",
       "      <td>16.0</td>\n",
       "      <td>14.0</td>\n",
       "      <td>30.701</td>\n",
       "      <td>7.320000</td>\n",
       "      <td>10.980000</td>\n",
       "      <td>1.0</td>\n",
       "      <td>0.829851</td>\n",
       "      <td>170.148675</td>\n",
       "      <td>1</td>\n",
       "      <td>9</td>\n",
       "    </tr>\n",
       "    <tr>\n",
       "      <th>457</th>\n",
       "      <td>4.0</td>\n",
       "      <td>3.0</td>\n",
       "      <td>17.500</td>\n",
       "      <td>0.225400</td>\n",
       "      <td>2.224600</td>\n",
       "      <td>0.0</td>\n",
       "      <td>0.394158</td>\n",
       "      <td>605.842334</td>\n",
       "      <td>1</td>\n",
       "      <td>7</td>\n",
       "    </tr>\n",
       "    <tr>\n",
       "      <th>523</th>\n",
       "      <td>17.0</td>\n",
       "      <td>22.0</td>\n",
       "      <td>3.200</td>\n",
       "      <td>1.467840</td>\n",
       "      <td>0.644160</td>\n",
       "      <td>0.0</td>\n",
       "      <td>0.004317</td>\n",
       "      <td>995.682677</td>\n",
       "      <td>0</td>\n",
       "      <td>0</td>\n",
       "    </tr>\n",
       "    <tr>\n",
       "      <th>118</th>\n",
       "      <td>0.0</td>\n",
       "      <td>4.0</td>\n",
       "      <td>12.800</td>\n",
       "      <td>1.088640</td>\n",
       "      <td>2.367360</td>\n",
       "      <td>1.0</td>\n",
       "      <td>0.653554</td>\n",
       "      <td>346.446118</td>\n",
       "      <td>1</td>\n",
       "      <td>8</td>\n",
       "    </tr>\n",
       "    <tr>\n",
       "      <th>15</th>\n",
       "      <td>9.0</td>\n",
       "      <td>6.0</td>\n",
       "      <td>8.600</td>\n",
       "      <td>0.817516</td>\n",
       "      <td>3.396484</td>\n",
       "      <td>1.0</td>\n",
       "      <td>0.093926</td>\n",
       "      <td>906.073692</td>\n",
       "      <td>0</td>\n",
       "      <td>3</td>\n",
       "    </tr>\n",
       "    <tr>\n",
       "      <th>42</th>\n",
       "      <td>7.0</td>\n",
       "      <td>23.0</td>\n",
       "      <td>4.600</td>\n",
       "      <td>0.941114</td>\n",
       "      <td>0.944886</td>\n",
       "      <td>0.0</td>\n",
       "      <td>0.036496</td>\n",
       "      <td>963.503604</td>\n",
       "      <td>0</td>\n",
       "      <td>2</td>\n",
       "    </tr>\n",
       "  </tbody>\n",
       "</table>\n",
       "</div>"
      ],
      "text/plain": [
       "     employ  address  debtinc  creddebt    othdebt  default      prob  \\\n",
       "404    18.0     10.0   15.400  2.099636   3.136364      0.0  0.034050   \n",
       "63      4.0      9.0    7.000  2.159850   1.690150      0.0  0.372982   \n",
       "34      8.0      1.0    2.900  0.077140   0.937860      0.0  0.066860   \n",
       "33      8.0      4.0   14.400  1.018656   2.869344      0.0  0.224398   \n",
       "583    16.0     14.0   30.701  7.320000  10.980000      1.0  0.829851   \n",
       "457     4.0      3.0   17.500  0.225400   2.224600      0.0  0.394158   \n",
       "523    17.0     22.0    3.200  1.467840   0.644160      0.0  0.004317   \n",
       "118     0.0      4.0   12.800  1.088640   2.367360      1.0  0.653554   \n",
       "15      9.0      6.0    8.600  0.817516   3.396484      1.0  0.093926   \n",
       "42      7.0     23.0    4.600  0.941114   0.944886      0.0  0.036496   \n",
       "\n",
       "     credit_score  pred  Deciles  \n",
       "404    965.949831     0        1  \n",
       "63     627.017684     1        7  \n",
       "34     933.140133     0        2  \n",
       "33     775.602357     0        5  \n",
       "583    170.148675     1        9  \n",
       "457    605.842334     1        7  \n",
       "523    995.682677     0        0  \n",
       "118    346.446118     1        8  \n",
       "15     906.073692     0        3  \n",
       "42     963.503604     0        2  "
      ]
     },
     "execution_count": 68,
     "metadata": {},
     "output_type": "execute_result"
    }
   ],
   "source": [
    "train.head(10)"
   ]
  },
  {
   "cell_type": "code",
   "execution_count": 69,
   "metadata": {},
   "outputs": [],
   "source": [
    "train['goods'] = 1-train.default\n",
    "test['goods'] = 1-test.default"
   ]
  },
  {
   "cell_type": "code",
   "execution_count": 70,
   "metadata": {},
   "outputs": [],
   "source": [
    "decile_results_train = train.groupby(['Deciles']).agg(min_prob = ('prob', 'min'),\n",
    "                              max_prob = ('prob', 'max'),\n",
    "                              No_bads = ('default', 'sum'),\n",
    "                              No_goods = ('goods', 'sum'), \n",
    "                              total = ('default', 'count'))\n",
    "\n",
    "decile_results_test = test.groupby(['Deciles']).agg(min_prob = ('prob', 'min'),\n",
    "                              max_prob = ('prob', 'max'),\n",
    "                              No_bads = ('default', 'sum'),\n",
    "                              No_goods = ('goods', 'sum'), \n",
    "                              total = ('default', 'count'),)"
   ]
  },
  {
   "cell_type": "code",
   "execution_count": 72,
   "metadata": {},
   "outputs": [
    {
     "data": {
      "text/html": [
       "<div>\n",
       "<style scoped>\n",
       "    .dataframe tbody tr th:only-of-type {\n",
       "        vertical-align: middle;\n",
       "    }\n",
       "\n",
       "    .dataframe tbody tr th {\n",
       "        vertical-align: top;\n",
       "    }\n",
       "\n",
       "    .dataframe thead th {\n",
       "        text-align: right;\n",
       "    }\n",
       "</style>\n",
       "<table border=\"1\" class=\"dataframe\">\n",
       "  <thead>\n",
       "    <tr style=\"text-align: right;\">\n",
       "      <th></th>\n",
       "      <th>min_prob</th>\n",
       "      <th>max_prob</th>\n",
       "      <th>No_bads</th>\n",
       "      <th>No_goods</th>\n",
       "      <th>total</th>\n",
       "    </tr>\n",
       "    <tr>\n",
       "      <th>Deciles</th>\n",
       "      <th></th>\n",
       "      <th></th>\n",
       "      <th></th>\n",
       "      <th></th>\n",
       "      <th></th>\n",
       "    </tr>\n",
       "  </thead>\n",
       "  <tbody>\n",
       "    <tr>\n",
       "      <th>0</th>\n",
       "      <td>0.000989</td>\n",
       "      <td>0.010873</td>\n",
       "      <td>0.0</td>\n",
       "      <td>49.0</td>\n",
       "      <td>49</td>\n",
       "    </tr>\n",
       "    <tr>\n",
       "      <th>1</th>\n",
       "      <td>0.010939</td>\n",
       "      <td>0.034413</td>\n",
       "      <td>0.0</td>\n",
       "      <td>49.0</td>\n",
       "      <td>49</td>\n",
       "    </tr>\n",
       "    <tr>\n",
       "      <th>2</th>\n",
       "      <td>0.035564</td>\n",
       "      <td>0.069866</td>\n",
       "      <td>5.0</td>\n",
       "      <td>44.0</td>\n",
       "      <td>49</td>\n",
       "    </tr>\n",
       "    <tr>\n",
       "      <th>3</th>\n",
       "      <td>0.070297</td>\n",
       "      <td>0.118319</td>\n",
       "      <td>5.0</td>\n",
       "      <td>44.0</td>\n",
       "      <td>49</td>\n",
       "    </tr>\n",
       "    <tr>\n",
       "      <th>4</th>\n",
       "      <td>0.118405</td>\n",
       "      <td>0.191373</td>\n",
       "      <td>6.0</td>\n",
       "      <td>43.0</td>\n",
       "      <td>49</td>\n",
       "    </tr>\n",
       "    <tr>\n",
       "      <th>5</th>\n",
       "      <td>0.192547</td>\n",
       "      <td>0.261854</td>\n",
       "      <td>10.0</td>\n",
       "      <td>39.0</td>\n",
       "      <td>49</td>\n",
       "    </tr>\n",
       "    <tr>\n",
       "      <th>6</th>\n",
       "      <td>0.262682</td>\n",
       "      <td>0.357988</td>\n",
       "      <td>17.0</td>\n",
       "      <td>32.0</td>\n",
       "      <td>49</td>\n",
       "    </tr>\n",
       "    <tr>\n",
       "      <th>7</th>\n",
       "      <td>0.359849</td>\n",
       "      <td>0.502783</td>\n",
       "      <td>21.0</td>\n",
       "      <td>28.0</td>\n",
       "      <td>49</td>\n",
       "    </tr>\n",
       "    <tr>\n",
       "      <th>8</th>\n",
       "      <td>0.508068</td>\n",
       "      <td>0.690442</td>\n",
       "      <td>28.0</td>\n",
       "      <td>21.0</td>\n",
       "      <td>49</td>\n",
       "    </tr>\n",
       "    <tr>\n",
       "      <th>9</th>\n",
       "      <td>0.694701</td>\n",
       "      <td>0.987380</td>\n",
       "      <td>40.0</td>\n",
       "      <td>9.0</td>\n",
       "      <td>49</td>\n",
       "    </tr>\n",
       "  </tbody>\n",
       "</table>\n",
       "</div>"
      ],
      "text/plain": [
       "         min_prob  max_prob  No_bads  No_goods  total\n",
       "Deciles                                              \n",
       "0        0.000989  0.010873      0.0      49.0     49\n",
       "1        0.010939  0.034413      0.0      49.0     49\n",
       "2        0.035564  0.069866      5.0      44.0     49\n",
       "3        0.070297  0.118319      5.0      44.0     49\n",
       "4        0.118405  0.191373      6.0      43.0     49\n",
       "5        0.192547  0.261854     10.0      39.0     49\n",
       "6        0.262682  0.357988     17.0      32.0     49\n",
       "7        0.359849  0.502783     21.0      28.0     49\n",
       "8        0.508068  0.690442     28.0      21.0     49\n",
       "9        0.694701  0.987380     40.0       9.0     49"
      ]
     },
     "execution_count": 72,
     "metadata": {},
     "output_type": "execute_result"
    }
   ],
   "source": [
    "decile_results_train"
   ]
  },
  {
   "cell_type": "code",
   "execution_count": 73,
   "metadata": {},
   "outputs": [],
   "source": [
    "decile_results_train.to_csv('decile_results_train.csv')\n",
    "decile_results_test.to_csv('decile_results_test.csv')"
   ]
  }
 ],
 "metadata": {
  "kernelspec": {
   "display_name": "Python 3 (ipykernel)",
   "language": "python",
   "name": "python3"
  },
  "language_info": {
   "codemirror_mode": {
    "name": "ipython",
    "version": 3
   },
   "file_extension": ".py",
   "mimetype": "text/x-python",
   "name": "python",
   "nbconvert_exporter": "python",
   "pygments_lexer": "ipython3",
   "version": "3.9.7"
  },
  "varInspector": {
   "cols": {
    "lenName": 16,
    "lenType": 16,
    "lenVar": 40
   },
   "kernels_config": {
    "python": {
     "delete_cmd_postfix": "",
     "delete_cmd_prefix": "del ",
     "library": "var_list.py",
     "varRefreshCmd": "print(var_dic_list())"
    },
    "r": {
     "delete_cmd_postfix": ") ",
     "delete_cmd_prefix": "rm(",
     "library": "var_list.r",
     "varRefreshCmd": "cat(var_dic_list()) "
    }
   },
   "types_to_exclude": [
    "module",
    "function",
    "builtin_function_or_method",
    "instance",
    "_Feature"
   ],
   "window_display": false
  }
 },
 "nbformat": 4,
 "nbformat_minor": 2
}
